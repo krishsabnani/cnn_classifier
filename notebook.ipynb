{
 "cells": [
  {
   "cell_type": "markdown",
   "metadata": {},
   "source": [
    "### Data loading"
   ]
  },
  {
   "cell_type": "code",
   "execution_count": 1,
   "metadata": {},
   "outputs": [
    {
     "name": "stdout",
     "output_type": "stream",
     "text": [
      "Requirement already satisfied: pillow in c:\\users\\rajat\\anaconda3\\lib\\site-packages (7.0.0)\n"
     ]
    },
    {
     "name": "stderr",
     "output_type": "stream",
     "text": [
      "'KERAS_BACKEND' is not recognized as an internal or external command,\n",
      "operable program or batch file.\n"
     ]
    }
   ],
   "source": [
    "##This notebook is built around using tensorflow as the backend for keras\n",
    "!pip install pillow\n",
    "!KERAS_BACKEND=tensorflow python -c \"from keras import backend\""
   ]
  },
  {
   "cell_type": "code",
   "execution_count": 2,
   "metadata": {},
   "outputs": [
    {
     "name": "stderr",
     "output_type": "stream",
     "text": [
      "Using TensorFlow backend.\n",
      "C:\\Users\\rajat\\anaconda3\\lib\\site-packages\\tensorflow\\python\\framework\\dtypes.py:516: FutureWarning: Passing (type, 1) or '1type' as a synonym of type is deprecated; in a future version of numpy, it will be understood as (type, (1,)) / '(1,)type'.\n",
      "  _np_qint8 = np.dtype([(\"qint8\", np.int8, 1)])\n",
      "C:\\Users\\rajat\\anaconda3\\lib\\site-packages\\tensorflow\\python\\framework\\dtypes.py:517: FutureWarning: Passing (type, 1) or '1type' as a synonym of type is deprecated; in a future version of numpy, it will be understood as (type, (1,)) / '(1,)type'.\n",
      "  _np_quint8 = np.dtype([(\"quint8\", np.uint8, 1)])\n",
      "C:\\Users\\rajat\\anaconda3\\lib\\site-packages\\tensorflow\\python\\framework\\dtypes.py:518: FutureWarning: Passing (type, 1) or '1type' as a synonym of type is deprecated; in a future version of numpy, it will be understood as (type, (1,)) / '(1,)type'.\n",
      "  _np_qint16 = np.dtype([(\"qint16\", np.int16, 1)])\n",
      "C:\\Users\\rajat\\anaconda3\\lib\\site-packages\\tensorflow\\python\\framework\\dtypes.py:519: FutureWarning: Passing (type, 1) or '1type' as a synonym of type is deprecated; in a future version of numpy, it will be understood as (type, (1,)) / '(1,)type'.\n",
      "  _np_quint16 = np.dtype([(\"quint16\", np.uint16, 1)])\n",
      "C:\\Users\\rajat\\anaconda3\\lib\\site-packages\\tensorflow\\python\\framework\\dtypes.py:520: FutureWarning: Passing (type, 1) or '1type' as a synonym of type is deprecated; in a future version of numpy, it will be understood as (type, (1,)) / '(1,)type'.\n",
      "  _np_qint32 = np.dtype([(\"qint32\", np.int32, 1)])\n",
      "C:\\Users\\rajat\\anaconda3\\lib\\site-packages\\tensorflow\\python\\framework\\dtypes.py:525: FutureWarning: Passing (type, 1) or '1type' as a synonym of type is deprecated; in a future version of numpy, it will be understood as (type, (1,)) / '(1,)type'.\n",
      "  np_resource = np.dtype([(\"resource\", np.ubyte, 1)])\n",
      "C:\\Users\\rajat\\anaconda3\\lib\\site-packages\\tensorboard\\compat\\tensorflow_stub\\dtypes.py:541: FutureWarning: Passing (type, 1) or '1type' as a synonym of type is deprecated; in a future version of numpy, it will be understood as (type, (1,)) / '(1,)type'.\n",
      "  _np_qint8 = np.dtype([(\"qint8\", np.int8, 1)])\n",
      "C:\\Users\\rajat\\anaconda3\\lib\\site-packages\\tensorboard\\compat\\tensorflow_stub\\dtypes.py:542: FutureWarning: Passing (type, 1) or '1type' as a synonym of type is deprecated; in a future version of numpy, it will be understood as (type, (1,)) / '(1,)type'.\n",
      "  _np_quint8 = np.dtype([(\"quint8\", np.uint8, 1)])\n",
      "C:\\Users\\rajat\\anaconda3\\lib\\site-packages\\tensorboard\\compat\\tensorflow_stub\\dtypes.py:543: FutureWarning: Passing (type, 1) or '1type' as a synonym of type is deprecated; in a future version of numpy, it will be understood as (type, (1,)) / '(1,)type'.\n",
      "  _np_qint16 = np.dtype([(\"qint16\", np.int16, 1)])\n",
      "C:\\Users\\rajat\\anaconda3\\lib\\site-packages\\tensorboard\\compat\\tensorflow_stub\\dtypes.py:544: FutureWarning: Passing (type, 1) or '1type' as a synonym of type is deprecated; in a future version of numpy, it will be understood as (type, (1,)) / '(1,)type'.\n",
      "  _np_quint16 = np.dtype([(\"quint16\", np.uint16, 1)])\n",
      "C:\\Users\\rajat\\anaconda3\\lib\\site-packages\\tensorboard\\compat\\tensorflow_stub\\dtypes.py:545: FutureWarning: Passing (type, 1) or '1type' as a synonym of type is deprecated; in a future version of numpy, it will be understood as (type, (1,)) / '(1,)type'.\n",
      "  _np_qint32 = np.dtype([(\"qint32\", np.int32, 1)])\n",
      "C:\\Users\\rajat\\anaconda3\\lib\\site-packages\\tensorboard\\compat\\tensorflow_stub\\dtypes.py:550: FutureWarning: Passing (type, 1) or '1type' as a synonym of type is deprecated; in a future version of numpy, it will be understood as (type, (1,)) / '(1,)type'.\n",
      "  np_resource = np.dtype([(\"resource\", np.ubyte, 1)])\n"
     ]
    }
   ],
   "source": [
    "##Updated to Keras 2.0\n",
    "import os\n",
    "import numpy as np\n",
    "from keras.models import Sequential\n",
    "from keras.layers import Activation, Dropout, Flatten, Dense\n",
    "from keras.preprocessing.image import ImageDataGenerator\n",
    "from keras.layers import Convolution2D, MaxPooling2D, ZeroPadding2D\n",
    "from keras import optimizers\n",
    "from keras import applications\n",
    "from keras.models import Model"
   ]
  },
  {
   "cell_type": "code",
   "execution_count": 3,
   "metadata": {},
   "outputs": [],
   "source": [
    "# dimensions of our images.\n",
    "img_width, img_height = 150, 150\n",
    "\n",
    "train_data_dir = 'data/train'\n",
    "validation_data_dir = 'data/validation'"
   ]
  },
  {
   "cell_type": "markdown",
   "metadata": {},
   "source": [
    "### Imports"
   ]
  },
  {
   "cell_type": "code",
   "execution_count": 4,
   "metadata": {},
   "outputs": [
    {
     "name": "stdout",
     "output_type": "stream",
     "text": [
      "Found 2048 images belonging to 2 classes.\n",
      "Found 832 images belonging to 2 classes.\n"
     ]
    }
   ],
   "source": [
    "##preprocessing\n",
    "# used to rescale the pixel values from [0, 255] to [0, 1] interval\n",
    "datagen = ImageDataGenerator(rescale=1./255)\n",
    "batch_size = 32\n",
    "\n",
    "# automagically retrieve images and their classes for train and validation sets\n",
    "train_generator = datagen.flow_from_directory(\n",
    "        train_data_dir,\n",
    "        target_size=(img_width, img_height),\n",
    "        batch_size=batch_size,\n",
    "        class_mode='binary')\n",
    "\n",
    "validation_generator = datagen.flow_from_directory(\n",
    "        validation_data_dir,\n",
    "        target_size=(img_width, img_height),\n",
    "        batch_size=batch_size,\n",
    "        class_mode='binary')"
   ]
  },
  {
   "cell_type": "markdown",
   "metadata": {},
   "source": [
    "## Small Conv Net"
   ]
  },
  {
   "cell_type": "markdown",
   "metadata": {},
   "source": [
    "### Model architecture definition"
   ]
  },
  {
   "cell_type": "code",
   "execution_count": 5,
   "metadata": {},
   "outputs": [
    {
     "name": "stdout",
     "output_type": "stream",
     "text": [
      "WARNING:tensorflow:From C:\\Users\\rajat\\anaconda3\\lib\\site-packages\\keras\\backend\\tensorflow_backend.py:4070: The name tf.nn.max_pool is deprecated. Please use tf.nn.max_pool2d instead.\n",
      "\n"
     ]
    }
   ],
   "source": [
    "# a simple stack of 3 convolution layers with a ReLU activation and followed by max-pooling layers.\n",
    "model = Sequential()\n",
    "model.add(Convolution2D(32, (3, 3), input_shape=(img_width, img_height,3)))\n",
    "model.add(Activation('relu'))\n",
    "model.add(MaxPooling2D(pool_size=(2, 2)))\n",
    "\n",
    "model.add(Convolution2D(32, (3, 3)))\n",
    "model.add(Activation('relu'))\n",
    "model.add(MaxPooling2D(pool_size=(2, 2)))\n",
    "\n",
    "model.add(Convolution2D(64, (3, 3)))\n",
    "model.add(Activation('relu'))\n",
    "model.add(MaxPooling2D(pool_size=(2, 2)))\n",
    "\n",
    "model.add(Flatten())\n",
    "model.add(Dense(64))\n",
    "model.add(Activation('relu'))\n",
    "model.add(Dropout(0.5))\n",
    "model.add(Dense(1))\n",
    "model.add(Activation('sigmoid'))"
   ]
  },
  {
   "cell_type": "code",
   "execution_count": 6,
   "metadata": {},
   "outputs": [
    {
     "name": "stdout",
     "output_type": "stream",
     "text": [
      "WARNING:tensorflow:From C:\\Users\\rajat\\anaconda3\\lib\\site-packages\\tensorflow\\python\\ops\\nn_impl.py:180: add_dispatch_support.<locals>.wrapper (from tensorflow.python.ops.array_ops) is deprecated and will be removed in a future version.\n",
      "Instructions for updating:\n",
      "Use tf.where in 2.0, which has the same broadcast rule as np.where\n"
     ]
    }
   ],
   "source": [
    "model.compile(loss='binary_crossentropy',\n",
    "              optimizer='rmsprop',\n",
    "              metrics=['accuracy'])"
   ]
  },
  {
   "cell_type": "markdown",
   "metadata": {},
   "source": [
    "### Training"
   ]
  },
  {
   "cell_type": "code",
   "execution_count": 7,
   "metadata": {},
   "outputs": [],
   "source": [
    "epochs = 30\n",
    "train_samples = 2048\n",
    "validation_samples = 832"
   ]
  },
  {
   "cell_type": "code",
   "execution_count": 8,
   "metadata": {},
   "outputs": [
    {
     "name": "stdout",
     "output_type": "stream",
     "text": [
      "WARNING:tensorflow:From C:\\Users\\rajat\\anaconda3\\lib\\site-packages\\keras\\backend\\tensorflow_backend.py:422: The name tf.global_variables is deprecated. Please use tf.compat.v1.global_variables instead.\n",
      "\n",
      "Epoch 1/30\n",
      "64/64 [==============================] - 40s 618ms/step - loss: 0.7387 - accuracy: 0.5264 - val_loss: 0.6860 - val_accuracy: 0.5817\n",
      "Epoch 2/30\n",
      "64/64 [==============================] - 35s 540ms/step - loss: 0.6808 - accuracy: 0.5918 - val_loss: 0.6190 - val_accuracy: 0.6118\n",
      "Epoch 3/30\n",
      "64/64 [==============================] - 35s 549ms/step - loss: 0.6299 - accuracy: 0.6641 - val_loss: 0.6683 - val_accuracy: 0.6683\n",
      "Epoch 4/30\n",
      "64/64 [==============================] - 35s 544ms/step - loss: 0.5693 - accuracy: 0.7104 - val_loss: 0.5941 - val_accuracy: 0.7031\n",
      "Epoch 5/30\n",
      "64/64 [==============================] - 35s 543ms/step - loss: 0.5252 - accuracy: 0.7446 - val_loss: 0.6956 - val_accuracy: 0.6635\n",
      "Epoch 6/30\n",
      "64/64 [==============================] - 35s 547ms/step - loss: 0.4620 - accuracy: 0.7783 - val_loss: 0.5140 - val_accuracy: 0.7308\n",
      "Epoch 7/30\n",
      "64/64 [==============================] - 36s 557ms/step - loss: 0.4366 - accuracy: 0.7964 - val_loss: 0.5243 - val_accuracy: 0.7200\n",
      "Epoch 8/30\n",
      "64/64 [==============================] - 38s 596ms/step - loss: 0.3776 - accuracy: 0.8369 - val_loss: 1.0071 - val_accuracy: 0.6995\n",
      "Epoch 9/30\n",
      "64/64 [==============================] - 35s 551ms/step - loss: 0.3302 - accuracy: 0.8540 - val_loss: 0.5544 - val_accuracy: 0.7236\n",
      "Epoch 10/30\n",
      "64/64 [==============================] - 35s 544ms/step - loss: 0.2934 - accuracy: 0.8711 - val_loss: 1.0167 - val_accuracy: 0.7163\n",
      "Epoch 11/30\n",
      "64/64 [==============================] - 35s 553ms/step - loss: 0.2332 - accuracy: 0.8960 - val_loss: 0.7741 - val_accuracy: 0.7248\n",
      "Epoch 12/30\n",
      "64/64 [==============================] - 35s 546ms/step - loss: 0.1984 - accuracy: 0.9165 - val_loss: 0.9254 - val_accuracy: 0.7127\n",
      "Epoch 13/30\n",
      "64/64 [==============================] - 36s 560ms/step - loss: 0.1693 - accuracy: 0.9316 - val_loss: 0.6829 - val_accuracy: 0.7175\n",
      "Epoch 14/30\n",
      "64/64 [==============================] - 36s 561ms/step - loss: 0.1481 - accuracy: 0.9434 - val_loss: 0.8019 - val_accuracy: 0.7163\n",
      "Epoch 15/30\n",
      "64/64 [==============================] - 35s 549ms/step - loss: 0.1195 - accuracy: 0.9531 - val_loss: 1.1119 - val_accuracy: 0.7175\n",
      "Epoch 16/30\n",
      "64/64 [==============================] - 35s 550ms/step - loss: 0.1117 - accuracy: 0.9590 - val_loss: 1.1153 - val_accuracy: 0.7139\n",
      "Epoch 17/30\n",
      "64/64 [==============================] - 35s 553ms/step - loss: 0.0819 - accuracy: 0.9702 - val_loss: 1.1051 - val_accuracy: 0.7200\n",
      "Epoch 18/30\n",
      "64/64 [==============================] - 35s 549ms/step - loss: 0.0676 - accuracy: 0.9751 - val_loss: 1.3310 - val_accuracy: 0.7079\n",
      "Epoch 19/30\n",
      "64/64 [==============================] - 35s 545ms/step - loss: 0.0765 - accuracy: 0.9751 - val_loss: 1.7070 - val_accuracy: 0.7103\n",
      "Epoch 20/30\n",
      "64/64 [==============================] - 35s 547ms/step - loss: 0.0722 - accuracy: 0.9800 - val_loss: 1.2763 - val_accuracy: 0.7055\n",
      "Epoch 21/30\n",
      "64/64 [==============================] - 35s 545ms/step - loss: 0.0450 - accuracy: 0.9863 - val_loss: 1.2923 - val_accuracy: 0.6995\n",
      "Epoch 22/30\n",
      "64/64 [==============================] - 35s 543ms/step - loss: 0.0589 - accuracy: 0.9795 - val_loss: 1.5857 - val_accuracy: 0.6899\n",
      "Epoch 23/30\n",
      "64/64 [==============================] - 35s 554ms/step - loss: 0.0426 - accuracy: 0.9839 - val_loss: 2.6002 - val_accuracy: 0.6851\n",
      "Epoch 24/30\n",
      "64/64 [==============================] - 35s 546ms/step - loss: 0.0480 - accuracy: 0.9854 - val_loss: 0.4944 - val_accuracy: 0.7007\n",
      "Epoch 25/30\n",
      "64/64 [==============================] - 35s 541ms/step - loss: 0.0436 - accuracy: 0.9868 - val_loss: 1.5412 - val_accuracy: 0.7031\n",
      "Epoch 26/30\n",
      "64/64 [==============================] - 35s 552ms/step - loss: 0.0391 - accuracy: 0.9863 - val_loss: 2.2878 - val_accuracy: 0.7043\n",
      "Epoch 27/30\n",
      "64/64 [==============================] - 35s 545ms/step - loss: 0.0486 - accuracy: 0.9854 - val_loss: 3.2211 - val_accuracy: 0.7043\n",
      "Epoch 28/30\n",
      "64/64 [==============================] - 35s 546ms/step - loss: 0.0362 - accuracy: 0.9883 - val_loss: 2.6866 - val_accuracy: 0.7079\n",
      "Epoch 29/30\n",
      "64/64 [==============================] - 35s 547ms/step - loss: 0.0488 - accuracy: 0.9810 - val_loss: 2.5257 - val_accuracy: 0.7224\n",
      "Epoch 30/30\n",
      "64/64 [==============================] - 35s 543ms/step - loss: 0.0366 - accuracy: 0.9897 - val_loss: 3.1197 - val_accuracy: 0.7212\n"
     ]
    },
    {
     "data": {
      "text/plain": [
       "<keras.callbacks.callbacks.History at 0x1e35a63aa48>"
      ]
     },
     "execution_count": 8,
     "metadata": {},
     "output_type": "execute_result"
    }
   ],
   "source": [
    "model.fit_generator(\n",
    "        train_generator,\n",
    "        steps_per_epoch=train_samples // batch_size,\n",
    "        epochs=epochs,\n",
    "        validation_data=validation_generator,\n",
    "        validation_steps=validation_samples// batch_size,)\n",
    "#About 60 seconds an epoch when using CPU"
   ]
  },
  {
   "cell_type": "code",
   "execution_count": 9,
   "metadata": {},
   "outputs": [],
   "source": [
    "model.save_weights('models/basic_cnn_30_epochs.h5')"
   ]
  },
  {
   "cell_type": "code",
   "execution_count": 11,
   "metadata": {},
   "outputs": [],
   "source": [
    "model.save_weights('models_trained/basic_cnn_30_epochs.h5')\n",
    "model.load_weights('models_trained/basic_cnn_30_epochs.h5')"
   ]
  },
  {
   "cell_type": "markdown",
   "metadata": {},
   "source": [
    "If your model successfully runs at one epoch, go back and it for 30 epochs by changing epochs above.  I was able to get to an val_acc of 0.71 at 30 epochs.\n",
    "A copy of a pretrained network is available in the pretrained folder."
   ]
  },
  {
   "cell_type": "markdown",
   "metadata": {},
   "source": [
    "### Evaluating on validation set"
   ]
  },
  {
   "cell_type": "markdown",
   "metadata": {},
   "source": [
    "Computing loss and accuracy :"
   ]
  },
  {
   "cell_type": "code",
   "execution_count": null,
   "metadata": {},
   "outputs": [],
   "source": [
    "model.evaluate_generator(validation_generator, validation_samples)"
   ]
  },
  {
   "cell_type": "markdown",
   "metadata": {},
   "source": [
    "Evolution of accuracy on training (blue) and validation (green) sets for 1 to 32 epochs :"
   ]
  },
  {
   "cell_type": "markdown",
   "metadata": {},
   "source": [
    "![Accuracy evolution](pictures/scores_no_dataaugmentation.png)"
   ]
  },
  {
   "cell_type": "markdown",
   "metadata": {},
   "source": [
    "**After ~10 epochs the neural network reach ~70% accuracy. We can witness overfitting, no progress is made over validation set in the next epochs.**"
   ]
  }
 ],
 "metadata": {
  "anaconda-cloud": {},
  "kernelspec": {
   "display_name": "Python 3",
   "language": "python",
   "name": "python3"
  },
  "language_info": {
   "codemirror_mode": {
    "name": "ipython",
    "version": 3
   },
   "file_extension": ".py",
   "mimetype": "text/x-python",
   "name": "python",
   "nbconvert_exporter": "python",
   "pygments_lexer": "ipython3",
   "version": "3.7.6"
  }
 },
 "nbformat": 4,
 "nbformat_minor": 1
}
