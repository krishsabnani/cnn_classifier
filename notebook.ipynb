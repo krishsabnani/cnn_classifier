{
 "cells": [
  {
   "cell_type": "markdown",
   "metadata": {},
   "source": [
    "### Building an image classification model using very little data  \n",
    "\n",
    "Based on the tutorial by Francois Chollet @fchollet https://blog.keras.io/building-powerful-image-classification-models-using-very-little-data.html and the workbook by Guillaume Dominici https://github.com/gggdominici/keras-workshop\n",
    "\n",
    "This tutorial presents several ways to build an image classifier using keras from just a few hundred or thousand pictures from each class you want to be able to recognize.\n",
    "\n",
    "We will go over the following options:  \n",
    "\n",
    "- training a small network from scratch (as a baseline)  \n",
    "- using the bottleneck features of a pre-trained network  \n",
    "- fine-tuning the top layers of a pre-trained network  \n",
    "  \n",
    "This will lead us to cover the following Keras features:   \n",
    "  \n",
    "- fit_generator for training Keras a model using Python data generators  \n",
    "- ImageDataGenerator for real-time data augmentation  \n",
    "- layer freezing and model fine-tuning  \n",
    "- ...and more.  \n"
   ]
  },
  {
   "cell_type": "markdown",
   "metadata": {},
   "source": [
    "## Data"
   ]
  },
  {
   "cell_type": "markdown",
   "metadata": {},
   "source": [
    "Data can be downloaded at:\n",
    "https://www.kaggle.com/c/dogs-vs-cats/data  \n",
    "All you need is the train set  \n",
    "The recommended folder structure is:  "
   ]
  },
  {
   "cell_type": "markdown",
   "metadata": {},
   "source": [
    "### Folder structure"
   ]
  },
  {
   "cell_type": "markdown",
   "metadata": {},
   "source": [
    "```python\n",
    "data/\n",
    "    train/\n",
    "        dogs/ ### 1024 pictures\n",
    "            dog001.jpg\n",
    "            dog002.jpg\n",
    "            ...\n",
    "        cats/ ### 1024 pictures\n",
    "            cat001.jpg\n",
    "            cat002.jpg\n",
    "            ...\n",
    "    validation/\n",
    "        dogs/ ### 416 pictures\n",
    "            dog001.jpg\n",
    "            dog002.jpg\n",
    "            ...\n",
    "        cats/ ### 416 pictures\n",
    "            cat001.jpg\n",
    "            cat002.jpg\n",
    "            ...\n",
    "```\n",
    "Note : for this example we only consider 2x1000 training images and 2x400 testing images among the 2x12500 available."
   ]
  },
  {
   "cell_type": "markdown",
   "metadata": {},
   "source": [
    "The github repo includes about 3000 images for this model. The original Kaggle dataset is much larger. The purpose of this demo is to show how you can build models with smaller size datasets. You should be able to improve this model by using more data."
   ]
  },
  {
   "cell_type": "markdown",
   "metadata": {},
   "source": [
    "### Data loading"
   ]
  },
  {
   "cell_type": "code",
   "execution_count": 1,
   "metadata": {},
   "outputs": [
    {
     "name": "stderr",
     "output_type": "stream",
     "text": [
      "WARNING: pip is being invoked by an old script wrapper. This will fail in a future version of pip.\n",
      "Please see https://github.com/pypa/pip/issues/5599 for advice on fixing the underlying issue.\n",
      "To avoid this problem you can invoke Python with '-m pip' instead of running pip directly.\n",
      "ERROR: Exception:\n",
      "Traceback (most recent call last):\n",
      "  File \"C:\\Users\\rajat\\AppData\\Roaming\\Python\\Python38\\site-packages\\pip\\_internal\\cli\\base_command.py\", line 186, in _main\n",
      "    status = self.run(options, args)\n",
      "  File \"C:\\Users\\rajat\\AppData\\Roaming\\Python\\Python38\\site-packages\\pip\\_internal\\commands\\install.py\", line 253, in run\n",
      "    options.use_user_site = decide_user_install(\n",
      "  File \"C:\\Users\\rajat\\AppData\\Roaming\\Python\\Python38\\site-packages\\pip\\_internal\\commands\\install.py\", line 604, in decide_user_install\n",
      "    if site_packages_writable(root=root_path, isolated=isolated_mode):\n",
      "  File \"C:\\Users\\rajat\\AppData\\Roaming\\Python\\Python38\\site-packages\\pip\\_internal\\commands\\install.py\", line 548, in site_packages_writable\n",
      "    return all(\n",
      "  File \"C:\\Users\\rajat\\AppData\\Roaming\\Python\\Python38\\site-packages\\pip\\_internal\\commands\\install.py\", line 549, in <genexpr>\n",
      "    test_writable_dir(d) for d in set(get_lib_location_guesses(**kwargs))\n",
      "  File \"C:\\Users\\rajat\\AppData\\Roaming\\Python\\Python38\\site-packages\\pip\\_internal\\utils\\filesystem.py\", line 140, in test_writable_dir\n",
      "    return _test_writable_dir_win(path)\n",
      "  File \"C:\\Users\\rajat\\AppData\\Roaming\\Python\\Python38\\site-packages\\pip\\_internal\\utils\\filesystem.py\", line 153, in _test_writable_dir_win\n",
      "    fd = os.open(file, os.O_RDWR | os.O_CREAT | os.O_EXCL)\n",
      "PermissionError: [Errno 13] Permission denied: 'c:\\\\program files\\\\python38\\\\Lib\\\\site-packages\\\\accesstest_deleteme_fishfingers_custard_e6ausx'\n",
      "WARNING: You are using pip version 20.0.2; however, version 20.1.1 is available.\n",
      "You should consider upgrading via the 'c:\\program files\\python38\\python.exe -m pip install --upgrade pip' command.\n",
      "'KERAS_BACKEND' is not recognized as an internal or external command,\n",
      "operable program or batch file.\n"
     ]
    }
   ],
   "source": [
    "##This notebook is built around using tensorflow as the backend for keras\n",
    "!pip install pillow\n",
    "!KERAS_BACKEND=tensorflow python -c \"from keras import backend\""
   ]
  },
  {
   "cell_type": "code",
   "execution_count": 4,
   "metadata": {},
   "outputs": [],
   "source": [
    "##Updated to Keras 2.0\n",
    "import os\n",
    "import numpy as np\n",
    "from keras.models import Sequential\n",
    "from keras.layers import Activation, Dropout, Flatten, Dense\n",
    "from keras.preprocessing.image import ImageDataGenerator\n",
    "from keras.layers import Convolution2D, MaxPooling2D, ZeroPadding2D\n",
    "from keras import optimizers\n",
    "from keras import applications\n",
    "from keras.models import Model"
   ]
  },
  {
   "cell_type": "code",
   "execution_count": 5,
   "metadata": {},
   "outputs": [],
   "source": [
    "# dimensions of our images.\n",
    "img_width, img_height = 150, 150\n",
    "\n",
    "train_data_dir = 'data/train'\n",
    "validation_data_dir = 'data/validation'"
   ]
  },
  {
   "cell_type": "markdown",
   "metadata": {},
   "source": [
    "### Imports"
   ]
  },
  {
   "cell_type": "code",
   "execution_count": 7,
   "metadata": {},
   "outputs": [
    {
     "name": "stdout",
     "output_type": "stream",
     "text": [
      "Found 2048 images belonging to 2 classes.\n",
      "Found 832 images belonging to 2 classes.\n"
     ]
    }
   ],
   "source": [
    "##preprocessing\n",
    "# used to rescale the pixel values from [0, 255] to [0, 1] interval\n",
    "datagen = ImageDataGenerator(rescale=1./255)\n",
    "batch_size = 32\n",
    "\n",
    "# automagically retrieve images and their classes for train and validation sets\n",
    "train_generator = datagen.flow_from_directory(\n",
    "        train_data_dir,\n",
    "        target_size=(img_width, img_height),\n",
    "        batch_size=batch_size,\n",
    "        class_mode='binary')\n",
    "\n",
    "validation_generator = datagen.flow_from_directory(\n",
    "        validation_data_dir,\n",
    "        target_size=(img_width, img_height),\n",
    "        batch_size=batch_size,\n",
    "        class_mode='binary')"
   ]
  },
  {
   "cell_type": "markdown",
   "metadata": {},
   "source": [
    "## Small Conv Net"
   ]
  },
  {
   "cell_type": "markdown",
   "metadata": {},
   "source": [
    "### Model architecture definition"
   ]
  },
  {
   "cell_type": "code",
   "execution_count": 8,
   "metadata": {},
   "outputs": [
    {
     "name": "stdout",
     "output_type": "stream",
     "text": [
      "WARNING:tensorflow:From C:\\Users\\rajat\\anaconda3\\lib\\site-packages\\keras\\backend\\tensorflow_backend.py:4070: The name tf.nn.max_pool is deprecated. Please use tf.nn.max_pool2d instead.\n",
      "\n"
     ]
    }
   ],
   "source": [
    "# a simple stack of 3 convolution layers with a ReLU activation and followed by max-pooling layers.\n",
    "model = Sequential()\n",
    "model.add(Convolution2D(32, (3, 3), input_shape=(img_width, img_height,3)))\n",
    "model.add(Activation('relu'))\n",
    "model.add(MaxPooling2D(pool_size=(2, 2)))\n",
    "\n",
    "model.add(Convolution2D(32, (3, 3)))\n",
    "model.add(Activation('relu'))\n",
    "model.add(MaxPooling2D(pool_size=(2, 2)))\n",
    "\n",
    "model.add(Convolution2D(64, (3, 3)))\n",
    "model.add(Activation('relu'))\n",
    "model.add(MaxPooling2D(pool_size=(2, 2)))\n",
    "\n",
    "model.add(Flatten())\n",
    "model.add(Dense(64))\n",
    "model.add(Activation('relu'))\n",
    "model.add(Dropout(0.5))\n",
    "model.add(Dense(1))\n",
    "model.add(Activation('sigmoid'))"
   ]
  },
  {
   "cell_type": "code",
   "execution_count": 9,
   "metadata": {},
   "outputs": [
    {
     "name": "stdout",
     "output_type": "stream",
     "text": [
      "WARNING:tensorflow:From C:\\Users\\rajat\\anaconda3\\lib\\site-packages\\tensorflow\\python\\ops\\nn_impl.py:180: add_dispatch_support.<locals>.wrapper (from tensorflow.python.ops.array_ops) is deprecated and will be removed in a future version.\n",
      "Instructions for updating:\n",
      "Use tf.where in 2.0, which has the same broadcast rule as np.where\n"
     ]
    }
   ],
   "source": [
    "model.compile(loss='binary_crossentropy',\n",
    "              optimizer='rmsprop',\n",
    "              metrics=['accuracy'])"
   ]
  },
  {
   "cell_type": "markdown",
   "metadata": {},
   "source": [
    "### Training"
   ]
  },
  {
   "cell_type": "code",
   "execution_count": 10,
   "metadata": {},
   "outputs": [],
   "source": [
    "epochs = 30\n",
    "train_samples = 2048\n",
    "validation_samples = 832"
   ]
  },
  {
   "cell_type": "code",
   "execution_count": 11,
   "metadata": {},
   "outputs": [
    {
     "name": "stdout",
     "output_type": "stream",
     "text": [
      "WARNING:tensorflow:From C:\\Users\\rajat\\anaconda3\\lib\\site-packages\\keras\\backend\\tensorflow_backend.py:422: The name tf.global_variables is deprecated. Please use tf.compat.v1.global_variables instead.\n",
      "\n",
      "Epoch 1/30\n",
      "64/64 [==============================] - 51s 795ms/step - loss: 0.7253 - accuracy: 0.5088 - val_loss: 0.6909 - val_accuracy: 0.5829\n",
      "Epoch 2/30\n",
      "64/64 [==============================] - 39s 615ms/step - loss: 0.6811 - accuracy: 0.5942 - val_loss: 0.6504 - val_accuracy: 0.5204\n",
      "Epoch 3/30\n",
      "64/64 [==============================] - 39s 615ms/step - loss: 0.6340 - accuracy: 0.6528 - val_loss: 0.6455 - val_accuracy: 0.6575\n",
      "Epoch 4/30\n",
      "64/64 [==============================] - 39s 615ms/step - loss: 0.5702 - accuracy: 0.7129 - val_loss: 0.6964 - val_accuracy: 0.7127\n",
      "Epoch 5/30\n",
      "64/64 [==============================] - 40s 619ms/step - loss: 0.5290 - accuracy: 0.7300 - val_loss: 0.7548 - val_accuracy: 0.6418\n",
      "Epoch 6/30\n",
      "64/64 [==============================] - 39s 614ms/step - loss: 0.4993 - accuracy: 0.7622 - val_loss: 0.6341 - val_accuracy: 0.7067\n",
      "Epoch 7/30\n",
      "64/64 [==============================] - 39s 615ms/step - loss: 0.4479 - accuracy: 0.7944 - val_loss: 0.8423 - val_accuracy: 0.7091\n",
      "Epoch 8/30\n",
      "64/64 [==============================] - 40s 621ms/step - loss: 0.4112 - accuracy: 0.8149 - val_loss: 0.4857 - val_accuracy: 0.7284\n",
      "Epoch 9/30\n",
      "64/64 [==============================] - 40s 620ms/step - loss: 0.3620 - accuracy: 0.8438 - val_loss: 0.8576 - val_accuracy: 0.7380\n",
      "Epoch 10/30\n",
      "64/64 [==============================] - 39s 613ms/step - loss: 0.3332 - accuracy: 0.8550 - val_loss: 0.5940 - val_accuracy: 0.7368\n",
      "Epoch 11/30\n",
      "64/64 [==============================] - 45s 700ms/step - loss: 0.2989 - accuracy: 0.8701 - val_loss: 0.6331 - val_accuracy: 0.7356\n",
      "Epoch 12/30\n",
      "64/64 [==============================] - 44s 693ms/step - loss: 0.2472 - accuracy: 0.8989 - val_loss: 0.8655 - val_accuracy: 0.7524\n",
      "Epoch 13/30\n",
      "64/64 [==============================] - 44s 683ms/step - loss: 0.2081 - accuracy: 0.9204 - val_loss: 0.5804 - val_accuracy: 0.7416\n",
      "Epoch 14/30\n",
      "64/64 [==============================] - 40s 627ms/step - loss: 0.1798 - accuracy: 0.9272 - val_loss: 0.4198 - val_accuracy: 0.7115\n",
      "Epoch 15/30\n",
      "63/64 [============================>.] - ETA: 0s - loss: 0.1538 - accuracy: 0.9405"
     ]
    },
    {
     "ename": "KeyboardInterrupt",
     "evalue": "",
     "output_type": "error",
     "traceback": [
      "\u001b[1;31m---------------------------------------------------------------------------\u001b[0m",
      "\u001b[1;31mKeyboardInterrupt\u001b[0m                         Traceback (most recent call last)",
      "\u001b[1;32m<ipython-input-11-2a56e3103c0a>\u001b[0m in \u001b[0;36m<module>\u001b[1;34m\u001b[0m\n\u001b[0;32m      4\u001b[0m         \u001b[0mepochs\u001b[0m\u001b[1;33m=\u001b[0m\u001b[0mepochs\u001b[0m\u001b[1;33m,\u001b[0m\u001b[1;33m\u001b[0m\u001b[1;33m\u001b[0m\u001b[0m\n\u001b[0;32m      5\u001b[0m         \u001b[0mvalidation_data\u001b[0m\u001b[1;33m=\u001b[0m\u001b[0mvalidation_generator\u001b[0m\u001b[1;33m,\u001b[0m\u001b[1;33m\u001b[0m\u001b[1;33m\u001b[0m\u001b[0m\n\u001b[1;32m----> 6\u001b[1;33m         validation_steps=validation_samples// batch_size,)\n\u001b[0m\u001b[0;32m      7\u001b[0m \u001b[1;31m#About 60 seconds an epoch when using CPU\u001b[0m\u001b[1;33m\u001b[0m\u001b[1;33m\u001b[0m\u001b[1;33m\u001b[0m\u001b[0m\n",
      "\u001b[1;32m~\\anaconda3\\lib\\site-packages\\keras\\legacy\\interfaces.py\u001b[0m in \u001b[0;36mwrapper\u001b[1;34m(*args, **kwargs)\u001b[0m\n\u001b[0;32m     89\u001b[0m                 warnings.warn('Update your `' + object_name + '` call to the ' +\n\u001b[0;32m     90\u001b[0m                               'Keras 2 API: ' + signature, stacklevel=2)\n\u001b[1;32m---> 91\u001b[1;33m             \u001b[1;32mreturn\u001b[0m \u001b[0mfunc\u001b[0m\u001b[1;33m(\u001b[0m\u001b[1;33m*\u001b[0m\u001b[0margs\u001b[0m\u001b[1;33m,\u001b[0m \u001b[1;33m**\u001b[0m\u001b[0mkwargs\u001b[0m\u001b[1;33m)\u001b[0m\u001b[1;33m\u001b[0m\u001b[1;33m\u001b[0m\u001b[0m\n\u001b[0m\u001b[0;32m     92\u001b[0m         \u001b[0mwrapper\u001b[0m\u001b[1;33m.\u001b[0m\u001b[0m_original_function\u001b[0m \u001b[1;33m=\u001b[0m \u001b[0mfunc\u001b[0m\u001b[1;33m\u001b[0m\u001b[1;33m\u001b[0m\u001b[0m\n\u001b[0;32m     93\u001b[0m         \u001b[1;32mreturn\u001b[0m \u001b[0mwrapper\u001b[0m\u001b[1;33m\u001b[0m\u001b[1;33m\u001b[0m\u001b[0m\n",
      "\u001b[1;32m~\\anaconda3\\lib\\site-packages\\keras\\engine\\training.py\u001b[0m in \u001b[0;36mfit_generator\u001b[1;34m(self, generator, steps_per_epoch, epochs, verbose, callbacks, validation_data, validation_steps, validation_freq, class_weight, max_queue_size, workers, use_multiprocessing, shuffle, initial_epoch)\u001b[0m\n\u001b[0;32m   1730\u001b[0m             \u001b[0muse_multiprocessing\u001b[0m\u001b[1;33m=\u001b[0m\u001b[0muse_multiprocessing\u001b[0m\u001b[1;33m,\u001b[0m\u001b[1;33m\u001b[0m\u001b[1;33m\u001b[0m\u001b[0m\n\u001b[0;32m   1731\u001b[0m             \u001b[0mshuffle\u001b[0m\u001b[1;33m=\u001b[0m\u001b[0mshuffle\u001b[0m\u001b[1;33m,\u001b[0m\u001b[1;33m\u001b[0m\u001b[1;33m\u001b[0m\u001b[0m\n\u001b[1;32m-> 1732\u001b[1;33m             initial_epoch=initial_epoch)\n\u001b[0m\u001b[0;32m   1733\u001b[0m \u001b[1;33m\u001b[0m\u001b[0m\n\u001b[0;32m   1734\u001b[0m     \u001b[1;33m@\u001b[0m\u001b[0minterfaces\u001b[0m\u001b[1;33m.\u001b[0m\u001b[0mlegacy_generator_methods_support\u001b[0m\u001b[1;33m\u001b[0m\u001b[1;33m\u001b[0m\u001b[0m\n",
      "\u001b[1;32m~\\anaconda3\\lib\\site-packages\\keras\\engine\\training_generator.py\u001b[0m in \u001b[0;36mfit_generator\u001b[1;34m(model, generator, steps_per_epoch, epochs, verbose, callbacks, validation_data, validation_steps, validation_freq, class_weight, max_queue_size, workers, use_multiprocessing, shuffle, initial_epoch)\u001b[0m\n\u001b[0;32m    240\u001b[0m                             \u001b[0mvalidation_steps\u001b[0m\u001b[1;33m,\u001b[0m\u001b[1;33m\u001b[0m\u001b[1;33m\u001b[0m\u001b[0m\n\u001b[0;32m    241\u001b[0m                             \u001b[0mcallbacks\u001b[0m\u001b[1;33m=\u001b[0m\u001b[0mcallbacks\u001b[0m\u001b[1;33m,\u001b[0m\u001b[1;33m\u001b[0m\u001b[1;33m\u001b[0m\u001b[0m\n\u001b[1;32m--> 242\u001b[1;33m                             workers=0)\n\u001b[0m\u001b[0;32m    243\u001b[0m                     \u001b[1;32melse\u001b[0m\u001b[1;33m:\u001b[0m\u001b[1;33m\u001b[0m\u001b[1;33m\u001b[0m\u001b[0m\n\u001b[0;32m    244\u001b[0m                         \u001b[1;31m# No need for try/except because\u001b[0m\u001b[1;33m\u001b[0m\u001b[1;33m\u001b[0m\u001b[1;33m\u001b[0m\u001b[0m\n",
      "\u001b[1;32m~\\anaconda3\\lib\\site-packages\\keras\\legacy\\interfaces.py\u001b[0m in \u001b[0;36mwrapper\u001b[1;34m(*args, **kwargs)\u001b[0m\n\u001b[0;32m     89\u001b[0m                 warnings.warn('Update your `' + object_name + '` call to the ' +\n\u001b[0;32m     90\u001b[0m                               'Keras 2 API: ' + signature, stacklevel=2)\n\u001b[1;32m---> 91\u001b[1;33m             \u001b[1;32mreturn\u001b[0m \u001b[0mfunc\u001b[0m\u001b[1;33m(\u001b[0m\u001b[1;33m*\u001b[0m\u001b[0margs\u001b[0m\u001b[1;33m,\u001b[0m \u001b[1;33m**\u001b[0m\u001b[0mkwargs\u001b[0m\u001b[1;33m)\u001b[0m\u001b[1;33m\u001b[0m\u001b[1;33m\u001b[0m\u001b[0m\n\u001b[0m\u001b[0;32m     92\u001b[0m         \u001b[0mwrapper\u001b[0m\u001b[1;33m.\u001b[0m\u001b[0m_original_function\u001b[0m \u001b[1;33m=\u001b[0m \u001b[0mfunc\u001b[0m\u001b[1;33m\u001b[0m\u001b[1;33m\u001b[0m\u001b[0m\n\u001b[0;32m     93\u001b[0m         \u001b[1;32mreturn\u001b[0m \u001b[0mwrapper\u001b[0m\u001b[1;33m\u001b[0m\u001b[1;33m\u001b[0m\u001b[0m\n",
      "\u001b[1;32m~\\anaconda3\\lib\\site-packages\\keras\\engine\\training.py\u001b[0m in \u001b[0;36mevaluate_generator\u001b[1;34m(self, generator, steps, callbacks, max_queue_size, workers, use_multiprocessing, verbose)\u001b[0m\n\u001b[0;32m   1789\u001b[0m             \u001b[0mworkers\u001b[0m\u001b[1;33m=\u001b[0m\u001b[0mworkers\u001b[0m\u001b[1;33m,\u001b[0m\u001b[1;33m\u001b[0m\u001b[1;33m\u001b[0m\u001b[0m\n\u001b[0;32m   1790\u001b[0m             \u001b[0muse_multiprocessing\u001b[0m\u001b[1;33m=\u001b[0m\u001b[0muse_multiprocessing\u001b[0m\u001b[1;33m,\u001b[0m\u001b[1;33m\u001b[0m\u001b[1;33m\u001b[0m\u001b[0m\n\u001b[1;32m-> 1791\u001b[1;33m             verbose=verbose)\n\u001b[0m\u001b[0;32m   1792\u001b[0m \u001b[1;33m\u001b[0m\u001b[0m\n\u001b[0;32m   1793\u001b[0m     \u001b[1;33m@\u001b[0m\u001b[0minterfaces\u001b[0m\u001b[1;33m.\u001b[0m\u001b[0mlegacy_generator_methods_support\u001b[0m\u001b[1;33m\u001b[0m\u001b[1;33m\u001b[0m\u001b[0m\n",
      "\u001b[1;32m~\\anaconda3\\lib\\site-packages\\keras\\engine\\training_generator.py\u001b[0m in \u001b[0;36mevaluate_generator\u001b[1;34m(model, generator, steps, callbacks, max_queue_size, workers, use_multiprocessing, verbose)\u001b[0m\n\u001b[0;32m    399\u001b[0m             outs = model.test_on_batch(x, y,\n\u001b[0;32m    400\u001b[0m                                        \u001b[0msample_weight\u001b[0m\u001b[1;33m=\u001b[0m\u001b[0msample_weight\u001b[0m\u001b[1;33m,\u001b[0m\u001b[1;33m\u001b[0m\u001b[1;33m\u001b[0m\u001b[0m\n\u001b[1;32m--> 401\u001b[1;33m                                        reset_metrics=False)\n\u001b[0m\u001b[0;32m    402\u001b[0m             \u001b[0mouts\u001b[0m \u001b[1;33m=\u001b[0m \u001b[0mto_list\u001b[0m\u001b[1;33m(\u001b[0m\u001b[0mouts\u001b[0m\u001b[1;33m)\u001b[0m\u001b[1;33m\u001b[0m\u001b[1;33m\u001b[0m\u001b[0m\n\u001b[0;32m    403\u001b[0m             \u001b[0mouts_per_batch\u001b[0m\u001b[1;33m.\u001b[0m\u001b[0mappend\u001b[0m\u001b[1;33m(\u001b[0m\u001b[0mouts\u001b[0m\u001b[1;33m)\u001b[0m\u001b[1;33m\u001b[0m\u001b[1;33m\u001b[0m\u001b[0m\n",
      "\u001b[1;32m~\\anaconda3\\lib\\site-packages\\keras\\engine\\training.py\u001b[0m in \u001b[0;36mtest_on_batch\u001b[1;34m(self, x, y, sample_weight, reset_metrics)\u001b[0m\n\u001b[0;32m   1557\u001b[0m             \u001b[0mins\u001b[0m \u001b[1;33m=\u001b[0m \u001b[0mx\u001b[0m \u001b[1;33m+\u001b[0m \u001b[0my\u001b[0m \u001b[1;33m+\u001b[0m \u001b[0msample_weights\u001b[0m\u001b[1;33m\u001b[0m\u001b[1;33m\u001b[0m\u001b[0m\n\u001b[0;32m   1558\u001b[0m         \u001b[0mself\u001b[0m\u001b[1;33m.\u001b[0m\u001b[0m_make_test_function\u001b[0m\u001b[1;33m(\u001b[0m\u001b[1;33m)\u001b[0m\u001b[1;33m\u001b[0m\u001b[1;33m\u001b[0m\u001b[0m\n\u001b[1;32m-> 1559\u001b[1;33m         \u001b[0moutputs\u001b[0m \u001b[1;33m=\u001b[0m \u001b[0mself\u001b[0m\u001b[1;33m.\u001b[0m\u001b[0mtest_function\u001b[0m\u001b[1;33m(\u001b[0m\u001b[0mins\u001b[0m\u001b[1;33m)\u001b[0m\u001b[1;33m\u001b[0m\u001b[1;33m\u001b[0m\u001b[0m\n\u001b[0m\u001b[0;32m   1560\u001b[0m \u001b[1;33m\u001b[0m\u001b[0m\n\u001b[0;32m   1561\u001b[0m         \u001b[1;32mif\u001b[0m \u001b[0mreset_metrics\u001b[0m\u001b[1;33m:\u001b[0m\u001b[1;33m\u001b[0m\u001b[1;33m\u001b[0m\u001b[0m\n",
      "\u001b[1;32m~\\anaconda3\\lib\\site-packages\\tensorflow\\python\\keras\\backend.py\u001b[0m in \u001b[0;36m__call__\u001b[1;34m(self, inputs)\u001b[0m\n\u001b[0;32m   3290\u001b[0m \u001b[1;33m\u001b[0m\u001b[0m\n\u001b[0;32m   3291\u001b[0m     fetched = self._callable_fn(*array_vals,\n\u001b[1;32m-> 3292\u001b[1;33m                                 run_metadata=self.run_metadata)\n\u001b[0m\u001b[0;32m   3293\u001b[0m     \u001b[0mself\u001b[0m\u001b[1;33m.\u001b[0m\u001b[0m_call_fetch_callbacks\u001b[0m\u001b[1;33m(\u001b[0m\u001b[0mfetched\u001b[0m\u001b[1;33m[\u001b[0m\u001b[1;33m-\u001b[0m\u001b[0mlen\u001b[0m\u001b[1;33m(\u001b[0m\u001b[0mself\u001b[0m\u001b[1;33m.\u001b[0m\u001b[0m_fetches\u001b[0m\u001b[1;33m)\u001b[0m\u001b[1;33m:\u001b[0m\u001b[1;33m]\u001b[0m\u001b[1;33m)\u001b[0m\u001b[1;33m\u001b[0m\u001b[1;33m\u001b[0m\u001b[0m\n\u001b[0;32m   3294\u001b[0m     output_structure = nest.pack_sequence_as(\n",
      "\u001b[1;32m~\\anaconda3\\lib\\site-packages\\tensorflow\\python\\client\\session.py\u001b[0m in \u001b[0;36m__call__\u001b[1;34m(self, *args, **kwargs)\u001b[0m\n\u001b[0;32m   1456\u001b[0m         ret = tf_session.TF_SessionRunCallable(self._session._session,\n\u001b[0;32m   1457\u001b[0m                                                \u001b[0mself\u001b[0m\u001b[1;33m.\u001b[0m\u001b[0m_handle\u001b[0m\u001b[1;33m,\u001b[0m \u001b[0margs\u001b[0m\u001b[1;33m,\u001b[0m\u001b[1;33m\u001b[0m\u001b[1;33m\u001b[0m\u001b[0m\n\u001b[1;32m-> 1458\u001b[1;33m                                                run_metadata_ptr)\n\u001b[0m\u001b[0;32m   1459\u001b[0m         \u001b[1;32mif\u001b[0m \u001b[0mrun_metadata\u001b[0m\u001b[1;33m:\u001b[0m\u001b[1;33m\u001b[0m\u001b[1;33m\u001b[0m\u001b[0m\n\u001b[0;32m   1460\u001b[0m           \u001b[0mproto_data\u001b[0m \u001b[1;33m=\u001b[0m \u001b[0mtf_session\u001b[0m\u001b[1;33m.\u001b[0m\u001b[0mTF_GetBuffer\u001b[0m\u001b[1;33m(\u001b[0m\u001b[0mrun_metadata_ptr\u001b[0m\u001b[1;33m)\u001b[0m\u001b[1;33m\u001b[0m\u001b[1;33m\u001b[0m\u001b[0m\n",
      "\u001b[1;31mKeyboardInterrupt\u001b[0m: "
     ]
    }
   ],
   "source": [
    "model.fit_generator(\n",
    "        train_generator,\n",
    "        steps_per_epoch=train_samples // batch_size,\n",
    "        epochs=epochs,\n",
    "        validation_data=validation_generator,\n",
    "        validation_steps=validation_samples// batch_size,)\n",
    "#About 60 seconds an epoch when using CPU"
   ]
  },
  {
   "cell_type": "code",
   "execution_count": 9,
   "metadata": {},
   "outputs": [],
   "source": [
    "model.save_weights('models/basic_cnn_30_epochs.h5')"
   ]
  },
  {
   "cell_type": "code",
   "execution_count": 10,
   "metadata": {
    "collapsed": true
   },
   "outputs": [],
   "source": [
    "#model.save_weights('models_trained/basic_cnn_30_epochs.h5')\n",
    "#model.load_weights('models_trained/basic_cnn_30_epochs.h5')"
   ]
  },
  {
   "cell_type": "markdown",
   "metadata": {},
   "source": [
    "If your model successfully runs at one epoch, go back and it for 30 epochs by changing epochs above.  I was able to get to an val_acc of 0.71 at 30 epochs.\n",
    "A copy of a pretrained network is available in the pretrained folder."
   ]
  },
  {
   "cell_type": "markdown",
   "metadata": {},
   "source": [
    "### Evaluating on validation set"
   ]
  },
  {
   "cell_type": "markdown",
   "metadata": {},
   "source": [
    "Computing loss and accuracy :"
   ]
  },
  {
   "cell_type": "code",
   "execution_count": 11,
   "metadata": {},
   "outputs": [
    {
     "data": {
      "text/plain": [
       "[1.9269507873731737, 0.72945462740384615]"
      ]
     },
     "execution_count": 11,
     "metadata": {},
     "output_type": "execute_result"
    }
   ],
   "source": [
    "model.evaluate_generator(validation_generator, validation_samples)"
   ]
  },
  {
   "cell_type": "markdown",
   "metadata": {},
   "source": [
    "Evolution of accuracy on training (blue) and validation (green) sets for 1 to 32 epochs :"
   ]
  },
  {
   "cell_type": "markdown",
   "metadata": {},
   "source": [
    "![Accuracy evolution](pictures/scores_no_dataaugmentation.png)"
   ]
  },
  {
   "cell_type": "markdown",
   "metadata": {},
   "source": [
    "**After ~10 epochs the neural network reach ~70% accuracy. We can witness overfitting, no progress is made over validation set in the next epochs.**"
   ]
  },
  {
   "cell_type": "markdown",
   "metadata": {},
   "source": [
    "## Data augmentation for improving the model"
   ]
  },
  {
   "cell_type": "markdown",
   "metadata": {},
   "source": [
    "By applying random transformation to our train set, we artificially enhance our dataset with new unseen images.  \n",
    "This will hopefully reduce overfitting and allows better generalization capability for our network."
   ]
  },
  {
   "cell_type": "markdown",
   "metadata": {},
   "source": [
    "Example of data augmentation applied to a picture:\n",
    "![Example of data augmentation applied to a picture](pictures/cat_data_augmentation.png)"
   ]
  },
  {
   "cell_type": "code",
   "execution_count": 12,
   "metadata": {},
   "outputs": [
    {
     "name": "stdout",
     "output_type": "stream",
     "text": [
      "Found 2048 images belonging to 2 classes.\n"
     ]
    }
   ],
   "source": [
    "train_datagen_augmented = ImageDataGenerator(\n",
    "        rescale=1./255,        # normalize pixel values to [0,1]\n",
    "        shear_range=0.2,       # randomly applies shearing transformation\n",
    "        zoom_range=0.2,        # randomly applies shearing transformation\n",
    "        horizontal_flip=True)  # randomly flip the images\n",
    "\n",
    "# same code as before\n",
    "train_generator_augmented = train_datagen_augmented.flow_from_directory(\n",
    "        train_data_dir,\n",
    "        target_size=(img_width, img_height),\n",
    "        batch_size=batch_size,\n",
    "        class_mode='binary')"
   ]
  },
  {
   "cell_type": "code",
   "execution_count": 13,
   "metadata": {},
   "outputs": [
    {
     "name": "stdout",
     "output_type": "stream",
     "text": [
      "Epoch 1/30\n",
      "64/64 [==============================] - 8s - loss: 0.6084 - acc: 0.7173 - val_loss: 0.5901 - val_acc: 0.6911\n",
      "Epoch 2/30\n",
      "64/64 [==============================] - 7s - loss: 0.5393 - acc: 0.7476 - val_loss: 0.5237 - val_acc: 0.7548\n",
      "Epoch 3/30\n",
      "64/64 [==============================] - 7s - loss: 0.5114 - acc: 0.7637 - val_loss: 0.5793 - val_acc: 0.7248\n",
      "Epoch 4/30\n",
      "64/64 [==============================] - 7s - loss: 0.4931 - acc: 0.7700 - val_loss: 0.5768 - val_acc: 0.7260\n",
      "Epoch 5/30\n",
      "64/64 [==============================] - 7s - loss: 0.4846 - acc: 0.8013 - val_loss: 0.5024 - val_acc: 0.7536\n",
      "Epoch 6/30\n",
      "64/64 [==============================] - 7s - loss: 0.4590 - acc: 0.7910 - val_loss: 0.5223 - val_acc: 0.7728\n",
      "Epoch 7/30\n",
      "64/64 [==============================] - 7s - loss: 0.4643 - acc: 0.7910 - val_loss: 0.5221 - val_acc: 0.7440\n",
      "Epoch 8/30\n",
      "64/64 [==============================] - 7s - loss: 0.4606 - acc: 0.7891 - val_loss: 0.5439 - val_acc: 0.7620\n",
      "Epoch 9/30\n",
      "64/64 [==============================] - 7s - loss: 0.4445 - acc: 0.8047 - val_loss: 0.5710 - val_acc: 0.7416\n",
      "Epoch 10/30\n",
      "64/64 [==============================] - 7s - loss: 0.4639 - acc: 0.8013 - val_loss: 0.4849 - val_acc: 0.7680\n",
      "Epoch 11/30\n",
      "64/64 [==============================] - 7s - loss: 0.4269 - acc: 0.8149 - val_loss: 0.5280 - val_acc: 0.7404\n",
      "Epoch 12/30\n",
      "64/64 [==============================] - 7s - loss: 0.4253 - acc: 0.8110 - val_loss: 0.4985 - val_acc: 0.7873\n",
      "Epoch 13/30\n",
      "64/64 [==============================] - 7s - loss: 0.4004 - acc: 0.8237 - val_loss: 0.5526 - val_acc: 0.7488\n",
      "Epoch 14/30\n",
      "64/64 [==============================] - 7s - loss: 0.4373 - acc: 0.8154 - val_loss: 0.4997 - val_acc: 0.7704\n",
      "Epoch 15/30\n",
      "64/64 [==============================] - 7s - loss: 0.4180 - acc: 0.8242 - val_loss: 0.4911 - val_acc: 0.7740\n",
      "Epoch 16/30\n",
      "64/64 [==============================] - 7s - loss: 0.4083 - acc: 0.8179 - val_loss: 0.5443 - val_acc: 0.7800\n",
      "Epoch 17/30\n",
      "64/64 [==============================] - 7s - loss: 0.3963 - acc: 0.8184 - val_loss: 0.5221 - val_acc: 0.7897\n",
      "Epoch 18/30\n",
      "64/64 [==============================] - 7s - loss: 0.3970 - acc: 0.8228 - val_loss: 0.6026 - val_acc: 0.7849\n",
      "Epoch 19/30\n",
      "64/64 [==============================] - 7s - loss: 0.3943 - acc: 0.8306 - val_loss: 0.5247 - val_acc: 0.7632\n",
      "Epoch 20/30\n",
      "64/64 [==============================] - 7s - loss: 0.4219 - acc: 0.8159 - val_loss: 0.4838 - val_acc: 0.7837\n",
      "Epoch 21/30\n",
      "64/64 [==============================] - 7s - loss: 0.3867 - acc: 0.8262 - val_loss: 0.5173 - val_acc: 0.7452\n",
      "Epoch 22/30\n",
      "64/64 [==============================] - 7s - loss: 0.3681 - acc: 0.8394 - val_loss: 0.4905 - val_acc: 0.7909\n",
      "Epoch 23/30\n",
      "64/64 [==============================] - 7s - loss: 0.3838 - acc: 0.8408 - val_loss: 0.5536 - val_acc: 0.7356\n",
      "Epoch 24/30\n",
      "64/64 [==============================] - 7s - loss: 0.3725 - acc: 0.8394 - val_loss: 0.4998 - val_acc: 0.7692\n",
      "Epoch 25/30\n",
      "64/64 [==============================] - 7s - loss: 0.3701 - acc: 0.8472 - val_loss: 0.5808 - val_acc: 0.7800\n",
      "Epoch 26/30\n",
      "64/64 [==============================] - 7s - loss: 0.3527 - acc: 0.8564 - val_loss: 0.6402 - val_acc: 0.7752\n",
      "Epoch 27/30\n",
      "64/64 [==============================] - 7s - loss: 0.3804 - acc: 0.8350 - val_loss: 0.4937 - val_acc: 0.7656\n",
      "Epoch 28/30\n",
      "64/64 [==============================] - 7s - loss: 0.3754 - acc: 0.8398 - val_loss: 0.5054 - val_acc: 0.7981\n",
      "Epoch 29/30\n",
      "64/64 [==============================] - 7s - loss: 0.3574 - acc: 0.8452 - val_loss: 0.5606 - val_acc: 0.7885\n",
      "Epoch 30/30\n",
      "64/64 [==============================] - 7s - loss: 0.3523 - acc: 0.8481 - val_loss: 0.5420 - val_acc: 0.7692\n"
     ]
    },
    {
     "data": {
      "text/plain": [
       "<keras.callbacks.History at 0x7f14c5b09c50>"
      ]
     },
     "execution_count": 13,
     "metadata": {},
     "output_type": "execute_result"
    }
   ],
   "source": [
    "model.fit_generator(\n",
    "        train_generator_augmented,\n",
    "        steps_per_epoch=train_samples // batch_size,\n",
    "        epochs=epochs,\n",
    "        validation_data=validation_generator,\n",
    "        validation_steps=validation_samples // batch_size,)"
   ]
  },
  {
   "cell_type": "code",
   "execution_count": 12,
   "metadata": {},
   "outputs": [],
   "source": [
    "model.save_weights('models/augmented_30_epochs.h5')"
   ]
  },
  {
   "cell_type": "code",
   "execution_count": 13,
   "metadata": {},
   "outputs": [],
   "source": [
    "#model.load_weights('models_trained/augmented_30_epochs.h5')"
   ]
  },
  {
   "cell_type": "markdown",
   "metadata": {},
   "source": [
    "### Evaluating on validation set"
   ]
  },
  {
   "cell_type": "markdown",
   "metadata": {},
   "source": [
    "Computing loss and accuracy :"
   ]
  },
  {
   "cell_type": "code",
   "execution_count": 15,
   "metadata": {},
   "outputs": [
    {
     "data": {
      "text/plain": [
       "[0.6166259050369263, 0.723557710647583]"
      ]
     },
     "execution_count": 15,
     "metadata": {},
     "output_type": "execute_result"
    }
   ],
   "source": [
    "model.evaluate_generator(validation_generator, validation_samples)"
   ]
  },
  {
   "cell_type": "markdown",
   "metadata": {},
   "source": [
    "Evolution of accuracy on training (blue) and validation (green) sets for 1 to 100 epochs :"
   ]
  },
  {
   "cell_type": "markdown",
   "metadata": {},
   "source": [
    "![Accuracy evolution](pictures/scores_with_dataaugmentation.png)"
   ]
  },
  {
   "cell_type": "markdown",
   "metadata": {},
   "source": [
    "**Thanks to data-augmentation, the accuracy on the validation set improved to ~80%**"
   ]
  },
  {
   "cell_type": "markdown",
   "metadata": {},
   "source": [
    "## Using a pre-trained model"
   ]
  },
  {
   "cell_type": "markdown",
   "metadata": {},
   "source": [
    "The process of training a convolutionnal neural network can be very time-consuming and require a lot of data.  \n",
    "\n",
    "We can go beyond the previous models in terms of performance and efficiency by using a general-purpose, pre-trained image classifier.  This example uses VGG16, a model trained on the ImageNet dataset - which contains millions of images classified in 1000 categories. \n",
    "\n",
    "On top of it, we add a small multi-layer perceptron and we train it on our dataset."
   ]
  },
  {
   "cell_type": "markdown",
   "metadata": {},
   "source": [
    "### VGG16 + small MLP\n",
    "![VGG16 + Dense layers Schema](pictures/vgg16_original.png)"
   ]
  },
  {
   "cell_type": "markdown",
   "metadata": {},
   "source": [
    "#### VGG16 model is available in Keras"
   ]
  },
  {
   "cell_type": "code",
   "execution_count": null,
   "metadata": {},
   "outputs": [],
   "source": [
    "model_vgg = applications.VGG16(include_top=False, weights='imagenet')"
   ]
  },
  {
   "cell_type": "markdown",
   "metadata": {},
   "source": [
    "### Using the VGG16 model to process samples"
   ]
  },
  {
   "cell_type": "code",
   "execution_count": null,
   "metadata": {},
   "outputs": [],
   "source": [
    "train_generator_bottleneck = datagen.flow_from_directory(\n",
    "        train_data_dir,\n",
    "        target_size=(img_width, img_height),\n",
    "        batch_size=batch_size,\n",
    "        class_mode=None,\n",
    "        shuffle=False)\n",
    "\n",
    "validation_generator_bottleneck = datagen.flow_from_directory(\n",
    "        validation_data_dir,\n",
    "        target_size=(img_width, img_height),\n",
    "        batch_size=batch_size,\n",
    "        class_mode=None,\n",
    "        shuffle=False)"
   ]
  },
  {
   "cell_type": "markdown",
   "metadata": {},
   "source": [
    "This is a long process, so we save the output of the VGG16 once and for all.  "
   ]
  },
  {
   "cell_type": "code",
   "execution_count": 19,
   "metadata": {},
   "outputs": [],
   "source": [
    "bottleneck_features_train = model_vgg.predict_generator(train_generator_bottleneck, train_samples // batch_size)\n",
    "np.save(open('models/bottleneck_features_train.npy', 'wb'), bottleneck_features_train)"
   ]
  },
  {
   "cell_type": "code",
   "execution_count": 20,
   "metadata": {},
   "outputs": [],
   "source": [
    "bottleneck_features_validation = model_vgg.predict_generator(validation_generator_bottleneck, validation_samples // batch_size)\n",
    "np.save(open('models/bottleneck_features_validation.npy', 'wb'), bottleneck_features_validation)"
   ]
  },
  {
   "cell_type": "markdown",
   "metadata": {},
   "source": [
    "Now we can load it..."
   ]
  },
  {
   "cell_type": "code",
   "execution_count": 21,
   "metadata": {},
   "outputs": [],
   "source": [
    "train_data = np.load(open('models/bottleneck_features_train.npy', 'rb'))\n",
    "train_labels = np.array([0] * (train_samples // 2) + [1] * (train_samples // 2))\n",
    "\n",
    "validation_data = np.load(open('models/bottleneck_features_validation.npy', 'rb'))\n",
    "validation_labels = np.array([0] * (validation_samples // 2) + [1] * (validation_samples // 2))"
   ]
  },
  {
   "cell_type": "markdown",
   "metadata": {},
   "source": [
    "And define and train the custom fully connected neural network :"
   ]
  },
  {
   "cell_type": "code",
   "execution_count": 22,
   "metadata": {},
   "outputs": [],
   "source": [
    "model_top = Sequential()\n",
    "model_top.add(Flatten(input_shape=train_data.shape[1:]))\n",
    "model_top.add(Dense(256, activation='relu'))\n",
    "model_top.add(Dropout(0.5))\n",
    "model_top.add(Dense(1, activation='sigmoid'))\n",
    "\n",
    "model_top.compile(optimizer='rmsprop', loss='binary_crossentropy', metrics=['accuracy'])"
   ]
  },
  {
   "cell_type": "code",
   "execution_count": 23,
   "metadata": {},
   "outputs": [
    {
     "name": "stdout",
     "output_type": "stream",
     "text": [
      "Train on 2048 samples, validate on 832 samples\n",
      "Epoch 1/30\n",
      "2048/2048 [==============================] - 0s - loss: 1.0117 - acc: 0.7373 - val_loss: 0.2824 - val_acc: 0.8846\n",
      "Epoch 2/30\n",
      "2048/2048 [==============================] - 0s - loss: 0.3854 - acc: 0.8354 - val_loss: 0.3104 - val_acc: 0.8654\n",
      "Epoch 3/30\n",
      "2048/2048 [==============================] - 0s - loss: 0.3131 - acc: 0.8740 - val_loss: 0.3117 - val_acc: 0.8666\n",
      "Epoch 4/30\n",
      "2048/2048 [==============================] - 0s - loss: 0.2750 - acc: 0.8916 - val_loss: 0.2966 - val_acc: 0.8750\n",
      "Epoch 5/30\n",
      "2048/2048 [==============================] - 0s - loss: 0.2181 - acc: 0.9126 - val_loss: 0.2443 - val_acc: 0.9050\n",
      "Epoch 6/30\n",
      "2048/2048 [==============================] - 0s - loss: 0.2031 - acc: 0.9204 - val_loss: 0.2397 - val_acc: 0.9135\n",
      "Epoch 7/30\n",
      "2048/2048 [==============================] - 0s - loss: 0.1917 - acc: 0.9209 - val_loss: 0.8980 - val_acc: 0.7212\n",
      "Epoch 8/30\n",
      "2048/2048 [==============================] - 0s - loss: 0.1669 - acc: 0.9375 - val_loss: 0.2565 - val_acc: 0.9026\n",
      "Epoch 9/30\n",
      "2048/2048 [==============================] - 0s - loss: 0.1234 - acc: 0.9570 - val_loss: 0.2883 - val_acc: 0.8978\n",
      "Epoch 10/30\n",
      "2048/2048 [==============================] - 0s - loss: 0.1344 - acc: 0.9473 - val_loss: 0.2794 - val_acc: 0.9099\n",
      "Epoch 11/30\n",
      "2048/2048 [==============================] - 0s - loss: 0.0999 - acc: 0.9604 - val_loss: 0.6976 - val_acc: 0.8041\n",
      "Epoch 12/30\n",
      "2048/2048 [==============================] - 0s - loss: 0.1082 - acc: 0.9551 - val_loss: 0.3539 - val_acc: 0.9050\n",
      "Epoch 13/30\n",
      "2048/2048 [==============================] - 0s - loss: 0.0857 - acc: 0.9683 - val_loss: 0.3202 - val_acc: 0.9123\n",
      "Epoch 14/30\n",
      "2048/2048 [==============================] - 0s - loss: 0.0643 - acc: 0.9722 - val_loss: 0.7492 - val_acc: 0.8209\n",
      "Epoch 15/30\n",
      "2048/2048 [==============================] - 0s - loss: 0.0790 - acc: 0.9727 - val_loss: 0.6080 - val_acc: 0.8702\n",
      "Epoch 16/30\n",
      "2048/2048 [==============================] - 0s - loss: 0.0605 - acc: 0.9780 - val_loss: 0.4586 - val_acc: 0.8990\n",
      "Epoch 17/30\n",
      "2048/2048 [==============================] - 0s - loss: 0.0592 - acc: 0.9775 - val_loss: 0.4327 - val_acc: 0.9062\n",
      "Epoch 18/30\n",
      "2048/2048 [==============================] - 0s - loss: 0.0517 - acc: 0.9775 - val_loss: 0.5250 - val_acc: 0.9014\n",
      "Epoch 19/30\n",
      "2048/2048 [==============================] - 0s - loss: 0.0445 - acc: 0.9839 - val_loss: 0.5150 - val_acc: 0.8906\n",
      "Epoch 20/30\n",
      "2048/2048 [==============================] - 0s - loss: 0.0495 - acc: 0.9814 - val_loss: 0.5910 - val_acc: 0.8930\n",
      "Epoch 21/30\n",
      "2048/2048 [==============================] - 0s - loss: 0.0357 - acc: 0.9863 - val_loss: 0.5589 - val_acc: 0.8918\n",
      "Epoch 22/30\n",
      "2048/2048 [==============================] - 0s - loss: 0.0313 - acc: 0.9902 - val_loss: 0.6116 - val_acc: 0.8834\n",
      "Epoch 23/30\n",
      "2048/2048 [==============================] - 0s - loss: 0.0278 - acc: 0.9883 - val_loss: 0.5449 - val_acc: 0.9062\n",
      "Epoch 24/30\n",
      "2048/2048 [==============================] - 0s - loss: 0.0366 - acc: 0.9868 - val_loss: 0.5645 - val_acc: 0.9050\n",
      "Epoch 25/30\n",
      "2048/2048 [==============================] - 0s - loss: 0.0231 - acc: 0.9907 - val_loss: 0.7700 - val_acc: 0.8666\n",
      "Epoch 26/30\n",
      "2048/2048 [==============================] - 0s - loss: 0.0316 - acc: 0.9893 - val_loss: 0.6023 - val_acc: 0.9111\n",
      "Epoch 27/30\n",
      "2048/2048 [==============================] - 0s - loss: 0.0207 - acc: 0.9922 - val_loss: 0.7544 - val_acc: 0.8918\n",
      "Epoch 28/30\n",
      "2048/2048 [==============================] - 0s - loss: 0.0265 - acc: 0.9907 - val_loss: 0.6361 - val_acc: 0.9002\n",
      "Epoch 29/30\n",
      "2048/2048 [==============================] - 0s - loss: 0.0206 - acc: 0.9927 - val_loss: 0.7019 - val_acc: 0.9026\n",
      "Epoch 30/30\n",
      "2048/2048 [==============================] - 0s - loss: 0.0284 - acc: 0.9897 - val_loss: 0.6048 - val_acc: 0.9026\n"
     ]
    },
    {
     "data": {
      "text/plain": [
       "<keras.callbacks.History at 0x7f14c409d630>"
      ]
     },
     "execution_count": 23,
     "metadata": {},
     "output_type": "execute_result"
    }
   ],
   "source": [
    "model_top.fit(train_data, train_labels,\n",
    "        epochs=epochs, \n",
    "        batch_size=batch_size,\n",
    "        validation_data=(validation_data, validation_labels))"
   ]
  },
  {
   "cell_type": "markdown",
   "metadata": {},
   "source": [
    "The training process of this small neural network is very fast : ~2s per epoch"
   ]
  },
  {
   "cell_type": "code",
   "execution_count": 24,
   "metadata": {},
   "outputs": [],
   "source": [
    "model_top.save_weights('models/bottleneck_30_epochs.h5')"
   ]
  },
  {
   "cell_type": "markdown",
   "metadata": {},
   "source": [
    "### Bottleneck model evaluation"
   ]
  },
  {
   "cell_type": "code",
   "execution_count": 25,
   "metadata": {},
   "outputs": [],
   "source": [
    "#model_top.load_weights('models/bottleneck_30_epochs.h5)"
   ]
  },
  {
   "cell_type": "markdown",
   "metadata": {},
   "source": [
    "Loss and accuracy :"
   ]
  },
  {
   "cell_type": "code",
   "execution_count": 26,
   "metadata": {},
   "outputs": [
    {
     "name": "stdout",
     "output_type": "stream",
     "text": [
      "\r",
      " 32/832 [>.............................] - ETA: 0s"
     ]
    },
    {
     "data": {
      "text/plain": [
       "[0.60475906758354259, 0.90264423076923073]"
      ]
     },
     "execution_count": 26,
     "metadata": {},
     "output_type": "execute_result"
    }
   ],
   "source": [
    "model_top.evaluate(validation_data, validation_labels)"
   ]
  },
  {
   "cell_type": "markdown",
   "metadata": {},
   "source": [
    "Evolution of accuracy on training (blue) and validation (green) sets for 1 to 32 epochs :"
   ]
  },
  {
   "cell_type": "markdown",
   "metadata": {},
   "source": [
    "![Accuracy evolution](pictures/scores_with_bottleneck.png)"
   ]
  },
  {
   "cell_type": "markdown",
   "metadata": {},
   "source": [
    "**We reached a 90% accuracy on the validation after ~1m of training (~20 epochs) and 8% of the samples originally available on the Kaggle competition !**"
   ]
  },
  {
   "cell_type": "markdown",
   "metadata": {
    "collapsed": true
   },
   "source": [
    "## Fine-tuning the top layers of a a pre-trained network"
   ]
  },
  {
   "cell_type": "markdown",
   "metadata": {
    "collapsed": true
   },
   "source": [
    "Start by instantiating the VGG base and loading its weights."
   ]
  },
  {
   "cell_type": "code",
   "execution_count": 27,
   "metadata": {
    "collapsed": true
   },
   "outputs": [],
   "source": [
    "model_vgg = applications.VGG16(weights='imagenet', include_top=False, input_shape=(150, 150, 3))"
   ]
  },
  {
   "cell_type": "markdown",
   "metadata": {},
   "source": [
    "Build a classifier model to put on top of the convolutional model. For the fine tuning, we start with a fully trained-classifer. We will use the weights from the earlier model. And then we will add this model on top of the convolutional base."
   ]
  },
  {
   "cell_type": "code",
   "execution_count": 29,
   "metadata": {},
   "outputs": [],
   "source": [
    "top_model = Sequential()\n",
    "top_model.add(Flatten(input_shape=model_vgg.output_shape[1:]))\n",
    "top_model.add(Dense(256, activation='relu'))\n",
    "top_model.add(Dropout(0.5))\n",
    "top_model.add(Dense(1, activation='sigmoid'))\n",
    "\n",
    "top_model.load_weights('models/bottleneck_30_epochs.h5')\n",
    "\n",
    "#model_vgg.add(top_model)\n",
    "model = Model(inputs = model_vgg.input, outputs = top_model(model_vgg.output))"
   ]
  },
  {
   "cell_type": "markdown",
   "metadata": {},
   "source": [
    "For fine turning, we only want to train a few layers.  This line will set the first 25 layers (up to the conv block) to non-trainable."
   ]
  },
  {
   "cell_type": "code",
   "execution_count": 30,
   "metadata": {},
   "outputs": [],
   "source": [
    "for layer in model.layers[:15]:\n",
    "    layer.trainable = False"
   ]
  },
  {
   "cell_type": "code",
   "execution_count": 31,
   "metadata": {
    "collapsed": true
   },
   "outputs": [],
   "source": [
    "# compile the model with a SGD/momentum optimizer\n",
    "# and a very slow learning rate.\n",
    "model.compile(loss='binary_crossentropy',\n",
    "              optimizer=optimizers.SGD(lr=1e-4, momentum=0.9),\n",
    "              metrics=['accuracy'])"
   ]
  },
  {
   "cell_type": "code",
   "execution_count": 32,
   "metadata": {},
   "outputs": [
    {
     "name": "stdout",
     "output_type": "stream",
     "text": [
      "Found 2048 images belonging to 2 classes.\n",
      "Found 832 images belonging to 2 classes.\n"
     ]
    }
   ],
   "source": [
    "# prepare data augmentation configuration  . . . do we need this?\n",
    "train_datagen = ImageDataGenerator(\n",
    "        rescale=1./255,\n",
    "        shear_range=0.2,\n",
    "        zoom_range=0.2,\n",
    "        horizontal_flip=True)\n",
    "\n",
    "test_datagen = ImageDataGenerator(rescale=1./255)\n",
    "\n",
    "train_generator = train_datagen.flow_from_directory(\n",
    "        train_data_dir,\n",
    "        target_size=(img_height, img_width),\n",
    "        batch_size=batch_size,\n",
    "        class_mode='binary')\n",
    "\n",
    "validation_generator = test_datagen.flow_from_directory(\n",
    "        validation_data_dir,\n",
    "        target_size=(img_height, img_width),\n",
    "        batch_size=batch_size,\n",
    "        class_mode='binary')"
   ]
  },
  {
   "cell_type": "code",
   "execution_count": 33,
   "metadata": {},
   "outputs": [
    {
     "name": "stdout",
     "output_type": "stream",
     "text": [
      "Epoch 1/30\n",
      "64/64 [==============================] - 14s - loss: 0.3501 - acc: 0.8999 - val_loss: 0.3482 - val_acc: 0.8990\n",
      "Epoch 2/30\n",
      "64/64 [==============================] - 14s - loss: 0.1985 - acc: 0.9268 - val_loss: 0.3713 - val_acc: 0.8954\n",
      "Epoch 3/30\n",
      "64/64 [==============================] - 14s - loss: 0.1624 - acc: 0.9336 - val_loss: 0.2705 - val_acc: 0.9111\n",
      "Epoch 4/30\n",
      "64/64 [==============================] - 14s - loss: 0.1224 - acc: 0.9521 - val_loss: 0.3526 - val_acc: 0.9050\n",
      "Epoch 5/30\n",
      "64/64 [==============================] - 14s - loss: 0.1321 - acc: 0.9502 - val_loss: 0.2383 - val_acc: 0.9231\n",
      "Epoch 6/30\n",
      "64/64 [==============================] - 14s - loss: 0.0970 - acc: 0.9624 - val_loss: 0.2955 - val_acc: 0.9135\n",
      "Epoch 7/30\n",
      "64/64 [==============================] - 14s - loss: 0.0981 - acc: 0.9644 - val_loss: 0.2939 - val_acc: 0.9243\n",
      "Epoch 8/30\n",
      "64/64 [==============================] - 14s - loss: 0.0655 - acc: 0.9761 - val_loss: 0.3388 - val_acc: 0.9219\n",
      "Epoch 9/30\n",
      "64/64 [==============================] - 14s - loss: 0.0664 - acc: 0.9746 - val_loss: 0.2822 - val_acc: 0.9171\n",
      "Epoch 10/30\n",
      "64/64 [==============================] - 14s - loss: 0.0778 - acc: 0.9702 - val_loss: 0.2287 - val_acc: 0.9327\n",
      "Epoch 11/30\n",
      "64/64 [==============================] - 14s - loss: 0.0466 - acc: 0.9839 - val_loss: 0.2978 - val_acc: 0.9207\n",
      "Epoch 12/30\n",
      "64/64 [==============================] - 14s - loss: 0.0616 - acc: 0.9785 - val_loss: 0.3196 - val_acc: 0.9171\n",
      "Epoch 13/30\n",
      "64/64 [==============================] - 14s - loss: 0.0532 - acc: 0.9814 - val_loss: 0.4721 - val_acc: 0.8978\n",
      "Epoch 14/30\n",
      "64/64 [==============================] - 14s - loss: 0.0786 - acc: 0.9707 - val_loss: 0.3044 - val_acc: 0.9147\n",
      "Epoch 15/30\n",
      "64/64 [==============================] - 14s - loss: 0.0518 - acc: 0.9814 - val_loss: 0.3593 - val_acc: 0.9195\n",
      "Epoch 16/30\n",
      "64/64 [==============================] - 14s - loss: 0.0527 - acc: 0.9824 - val_loss: 0.3035 - val_acc: 0.9183\n",
      "Epoch 17/30\n",
      "64/64 [==============================] - 14s - loss: 0.0349 - acc: 0.9868 - val_loss: 0.3020 - val_acc: 0.9195\n",
      "Epoch 18/30\n",
      "64/64 [==============================] - 14s - loss: 0.0332 - acc: 0.9888 - val_loss: 0.3253 - val_acc: 0.9291\n",
      "Epoch 19/30\n",
      "64/64 [==============================] - 14s - loss: 0.0433 - acc: 0.9849 - val_loss: 0.3177 - val_acc: 0.9279\n",
      "Epoch 20/30\n",
      "64/64 [==============================] - 14s - loss: 0.0401 - acc: 0.9873 - val_loss: 0.2912 - val_acc: 0.9255\n",
      "Epoch 21/30\n",
      "64/64 [==============================] - 14s - loss: 0.0356 - acc: 0.9897 - val_loss: 0.3278 - val_acc: 0.9207\n",
      "Epoch 22/30\n",
      "64/64 [==============================] - 14s - loss: 0.0325 - acc: 0.9888 - val_loss: 0.3212 - val_acc: 0.9291\n",
      "Epoch 23/30\n",
      "64/64 [==============================] - 14s - loss: 0.0362 - acc: 0.9849 - val_loss: 0.3038 - val_acc: 0.9303\n",
      "Epoch 24/30\n",
      "64/64 [==============================] - 14s - loss: 0.0303 - acc: 0.9893 - val_loss: 0.2688 - val_acc: 0.9279\n",
      "Epoch 25/30\n",
      "64/64 [==============================] - 14s - loss: 0.0268 - acc: 0.9912 - val_loss: 0.3272 - val_acc: 0.9315\n",
      "Epoch 26/30\n",
      "64/64 [==============================] - 14s - loss: 0.0214 - acc: 0.9922 - val_loss: 0.2904 - val_acc: 0.9327\n",
      "Epoch 27/30\n",
      "64/64 [==============================] - 14s - loss: 0.0232 - acc: 0.9917 - val_loss: 0.3277 - val_acc: 0.9351\n",
      "Epoch 28/30\n",
      "64/64 [==============================] - 14s - loss: 0.0227 - acc: 0.9917 - val_loss: 0.2777 - val_acc: 0.9399\n",
      "Epoch 29/30\n",
      "64/64 [==============================] - 14s - loss: 0.0161 - acc: 0.9946 - val_loss: 0.4184 - val_acc: 0.9195\n",
      "Epoch 30/30\n",
      "64/64 [==============================] - 14s - loss: 0.0217 - acc: 0.9941 - val_loss: 0.2723 - val_acc: 0.9399\n"
     ]
    },
    {
     "data": {
      "text/plain": [
       "<keras.callbacks.History at 0x7f1494937438>"
      ]
     },
     "execution_count": 33,
     "metadata": {},
     "output_type": "execute_result"
    }
   ],
   "source": [
    "# fine-tune the model\n",
    "model.fit_generator(\n",
    "    train_generator,\n",
    "    steps_per_epoch=train_samples // batch_size,\n",
    "    epochs=epochs,\n",
    "    validation_data=validation_generator,\n",
    "    validation_steps=validation_samples // batch_size)"
   ]
  },
  {
   "cell_type": "code",
   "execution_count": 34,
   "metadata": {
    "collapsed": true
   },
   "outputs": [],
   "source": [
    "model.save_weights('models/finetuning_30epochs_vgg.h5')"
   ]
  },
  {
   "cell_type": "code",
   "execution_count": 35,
   "metadata": {
    "collapsed": true
   },
   "outputs": [],
   "source": [
    "model.load_weights('models/finetuning_30epochs_vgg.h5')"
   ]
  },
  {
   "cell_type": "markdown",
   "metadata": {},
   "source": [
    "### Evaluating on validation set"
   ]
  },
  {
   "cell_type": "markdown",
   "metadata": {},
   "source": [
    "Computing loss and accuracy :"
   ]
  },
  {
   "cell_type": "code",
   "execution_count": 36,
   "metadata": {},
   "outputs": [
    {
     "data": {
      "text/plain": [
       "[0.31461367263587958, 0.93137770432692313]"
      ]
     },
     "execution_count": 36,
     "metadata": {},
     "output_type": "execute_result"
    }
   ],
   "source": [
    "model.evaluate_generator(validation_generator, validation_samples)"
   ]
  },
  {
   "cell_type": "markdown",
   "metadata": {},
   "source": [
    "**We reached a 93% accuracy on the validation with 8% of the samples originally available on the Kaggle competition!**"
   ]
  },
  {
   "cell_type": "code",
   "execution_count": null,
   "metadata": {
    "collapsed": true
   },
   "outputs": [],
   "source": []
  }
 ],
 "metadata": {
  "anaconda-cloud": {},
  "kernelspec": {
   "display_name": "Python 3",
   "language": "python",
   "name": "python3"
  },
  "language_info": {
   "codemirror_mode": {
    "name": "ipython",
    "version": 3
   },
   "file_extension": ".py",
   "mimetype": "text/x-python",
   "name": "python",
   "nbconvert_exporter": "python",
   "pygments_lexer": "ipython3",
   "version": "3.7.6"
  }
 },
 "nbformat": 4,
 "nbformat_minor": 1
}
