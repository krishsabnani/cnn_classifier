{
 "cells": [
  {
   "cell_type": "markdown",
   "metadata": {},
   "source": [
    "### Building an image classification model using very little data  \n",
    "\n",
    "Based on the tutorial by Francois Chollet @fchollet https://blog.keras.io/building-powerful-image-classification-models-using-very-little-data.html and the workbook by Guillaume Dominici https://github.com/gggdominici/keras-workshop\n",
    "\n",
    "This tutorial presents several ways to build an image classifier using keras from just a few hundred or thousand pictures from each class you want to be able to recognize.\n",
    "\n",
    "We will go over the following options:  \n",
    "\n",
    "- training a small network from scratch (as a baseline)  \n",
    "- using the bottleneck features of a pre-trained network  \n",
    "- fine-tuning the top layers of a pre-trained network  \n",
    "  \n",
    "This will lead us to cover the following Keras features:   \n",
    "  \n",
    "- fit_generator for training Keras a model using Python data generators  \n",
    "- ImageDataGenerator for real-time data augmentation  \n",
    "- layer freezing and model fine-tuning  \n",
    "- ...and more.  \n"
   ]
  },
  {
   "cell_type": "markdown",
   "metadata": {},
   "source": [
    "## Data"
   ]
  },
  {
   "cell_type": "markdown",
   "metadata": {},
   "source": [
    "Data can be downloaded at:\n",
    "https://www.kaggle.com/c/dogs-vs-cats/data  \n",
    "All you need is the train set  \n",
    "The recommended folder structure is:  "
   ]
  },
  {
   "cell_type": "markdown",
   "metadata": {},
   "source": [
    "### Folder structure"
   ]
  },
  {
   "cell_type": "markdown",
   "metadata": {},
   "source": [
    "```python\n",
    "data/\n",
    "    train/\n",
    "        dogs/ ### 1024 pictures\n",
    "            dog001.jpg\n",
    "            dog002.jpg\n",
    "            ...\n",
    "        cats/ ### 1024 pictures\n",
    "            cat001.jpg\n",
    "            cat002.jpg\n",
    "            ...\n",
    "    validation/\n",
    "        dogs/ ### 416 pictures\n",
    "            dog001.jpg\n",
    "            dog002.jpg\n",
    "            ...\n",
    "        cats/ ### 416 pictures\n",
    "            cat001.jpg\n",
    "            cat002.jpg\n",
    "            ...\n",
    "```\n",
    "Note : for this example we only consider 2x1000 training images and 2x400 testing images among the 2x12500 available."
   ]
  },
  {
   "cell_type": "markdown",
   "metadata": {},
   "source": [
    "The github repo includes about 1500 images for this model. The original Kaggle dataset is much larger. The purpose of this demo is to show how you can build models with smaller size datasets. You should be able to improve this model by using more data."
   ]
  },
  {
   "cell_type": "markdown",
   "metadata": {},
   "source": [
    "### Data loading"
   ]
  },
  {
   "cell_type": "code",
   "execution_count": 1,
   "metadata": {
    "collapsed": false
   },
   "outputs": [
    {
     "name": "stdout",
     "output_type": "stream",
     "text": [
      "Requirement already satisfied (use --upgrade to upgrade): pillow in /home/ladmin/anaconda3/lib/python3.5/site-packages\n",
      "\u001b[33mYou are using pip version 8.1.2, however version 9.0.1 is available.\n",
      "You should consider upgrading via the 'pip install --upgrade pip' command.\u001b[0m\n",
      "Using TensorFlow backend.\n",
      "I tensorflow/stream_executor/dso_loader.cc:135] successfully opened CUDA library libcublas.so.8.0 locally\n",
      "I tensorflow/stream_executor/dso_loader.cc:135] successfully opened CUDA library libcudnn.so.5 locally\n",
      "I tensorflow/stream_executor/dso_loader.cc:135] successfully opened CUDA library libcufft.so.8.0 locally\n",
      "I tensorflow/stream_executor/dso_loader.cc:135] successfully opened CUDA library libcuda.so.1 locally\n",
      "I tensorflow/stream_executor/dso_loader.cc:135] successfully opened CUDA library libcurand.so.8.0 locally\n"
     ]
    }
   ],
   "source": [
    "##This notebook is built around using tensorflow as the backend for keras\n",
    "!pip install pillow\n",
    "!KERAS_BACKEND=tensorflow python -c \"from keras import backend\""
   ]
  },
  {
   "cell_type": "code",
   "execution_count": 30,
   "metadata": {
    "collapsed": false
   },
   "outputs": [],
   "source": [
    "##Updated to Keras 2.0\n",
    "import os\n",
    "import numpy as np\n",
    "from keras.models import Sequential\n",
    "from keras.layers import Activation, Dropout, Flatten, Dense\n",
    "from keras.preprocessing.image import ImageDataGenerator\n",
    "from keras.layers import Convolution2D, MaxPooling2D, ZeroPadding2D\n",
    "from keras import optimizers\n",
    "from keras import applications\n",
    "from keras.models import Model"
   ]
  },
  {
   "cell_type": "code",
   "execution_count": 3,
   "metadata": {
    "collapsed": true
   },
   "outputs": [],
   "source": [
    "# dimensions of our images.\n",
    "img_width, img_height = 150, 150\n",
    "\n",
    "train_data_dir = 'data/train'\n",
    "validation_data_dir = 'data/validation'"
   ]
  },
  {
   "cell_type": "markdown",
   "metadata": {},
   "source": [
    "### Imports"
   ]
  },
  {
   "cell_type": "code",
   "execution_count": 4,
   "metadata": {
    "collapsed": false
   },
   "outputs": [
    {
     "name": "stdout",
     "output_type": "stream",
     "text": [
      "Found 2048 images belonging to 2 classes.\n",
      "Found 832 images belonging to 2 classes.\n"
     ]
    }
   ],
   "source": [
    "##preprocessing\n",
    "# used to rescale the pixel values from [0, 255] to [0, 1] interval\n",
    "datagen = ImageDataGenerator(rescale=1./255)\n",
    "batch_size = 32\n",
    "\n",
    "# automagically retrieve images and their classes for train and validation sets\n",
    "train_generator = datagen.flow_from_directory(\n",
    "        train_data_dir,\n",
    "        target_size=(img_width, img_height),\n",
    "        batch_size=batch_size,\n",
    "        class_mode='binary')\n",
    "\n",
    "validation_generator = datagen.flow_from_directory(\n",
    "        validation_data_dir,\n",
    "        target_size=(img_width, img_height),\n",
    "        batch_size=batch_size,\n",
    "        class_mode='binary')"
   ]
  },
  {
   "cell_type": "markdown",
   "metadata": {},
   "source": [
    "## Small Conv Net"
   ]
  },
  {
   "cell_type": "markdown",
   "metadata": {},
   "source": [
    "### Model architecture definition"
   ]
  },
  {
   "cell_type": "code",
   "execution_count": 5,
   "metadata": {
    "collapsed": false
   },
   "outputs": [],
   "source": [
    "# a simple stack of 3 convolution layers with a ReLU activation and followed by max-pooling layers.\n",
    "model = Sequential()\n",
    "model.add(Convolution2D(32, (3, 3), input_shape=(img_width, img_height,3)))\n",
    "model.add(Activation('relu'))\n",
    "model.add(MaxPooling2D(pool_size=(2, 2)))\n",
    "\n",
    "model.add(Convolution2D(32, (3, 3)))\n",
    "model.add(Activation('relu'))\n",
    "model.add(MaxPooling2D(pool_size=(2, 2)))\n",
    "\n",
    "model.add(Convolution2D(64, (3, 3)))\n",
    "model.add(Activation('relu'))\n",
    "model.add(MaxPooling2D(pool_size=(2, 2)))\n",
    "\n",
    "model.add(Flatten())\n",
    "model.add(Dense(64))\n",
    "model.add(Activation('relu'))\n",
    "model.add(Dropout(0.5))\n",
    "model.add(Dense(1))\n",
    "model.add(Activation('sigmoid'))"
   ]
  },
  {
   "cell_type": "code",
   "execution_count": 6,
   "metadata": {
    "collapsed": true
   },
   "outputs": [],
   "source": [
    "model.compile(loss='binary_crossentropy',\n",
    "              optimizer='rmsprop',\n",
    "              metrics=['accuracy'])"
   ]
  },
  {
   "cell_type": "markdown",
   "metadata": {},
   "source": [
    "### Training"
   ]
  },
  {
   "cell_type": "code",
   "execution_count": 7,
   "metadata": {
    "collapsed": true
   },
   "outputs": [],
   "source": [
    "epochs = 30\n",
    "train_samples = 2048\n",
    "validation_samples = 832"
   ]
  },
  {
   "cell_type": "code",
   "execution_count": 8,
   "metadata": {
    "collapsed": false
   },
   "outputs": [
    {
     "name": "stdout",
     "output_type": "stream",
     "text": [
      "Epoch 1/30\n",
      "64/64 [==============================] - 61s - loss: 0.7004 - acc: 0.5205 - val_loss: 0.6861 - val_acc: 0.5288\n",
      "Epoch 2/30\n",
      "64/64 [==============================] - 3s - loss: 0.6668 - acc: 0.6177 - val_loss: 0.6322 - val_acc: 0.6430\n",
      "Epoch 3/30\n",
      "64/64 [==============================] - 3s - loss: 0.6260 - acc: 0.6621 - val_loss: 0.6390 - val_acc: 0.6454\n",
      "Epoch 4/30\n",
      "64/64 [==============================] - 3s - loss: 0.5847 - acc: 0.7075 - val_loss: 0.5782 - val_acc: 0.6731\n",
      "Epoch 5/30\n",
      "64/64 [==============================] - 3s - loss: 0.5446 - acc: 0.7271 - val_loss: 0.6108 - val_acc: 0.6454\n",
      "Epoch 6/30\n",
      "64/64 [==============================] - 3s - loss: 0.5141 - acc: 0.7500 - val_loss: 0.5884 - val_acc: 0.6755\n",
      "Epoch 7/30\n",
      "64/64 [==============================] - 3s - loss: 0.4930 - acc: 0.7764 - val_loss: 0.5914 - val_acc: 0.6959\n",
      "Epoch 8/30\n",
      "64/64 [==============================] - 3s - loss: 0.4424 - acc: 0.7822 - val_loss: 0.6365 - val_acc: 0.7091\n",
      "Epoch 9/30\n",
      "64/64 [==============================] - 3s - loss: 0.4067 - acc: 0.8218 - val_loss: 0.5611 - val_acc: 0.7248\n",
      "Epoch 10/30\n",
      "64/64 [==============================] - 3s - loss: 0.3593 - acc: 0.8330 - val_loss: 0.5750 - val_acc: 0.7115\n",
      "Epoch 11/30\n",
      "64/64 [==============================] - 3s - loss: 0.3103 - acc: 0.8657 - val_loss: 0.6317 - val_acc: 0.6959\n",
      "Epoch 12/30\n",
      "64/64 [==============================] - 3s - loss: 0.2998 - acc: 0.8721 - val_loss: 0.6315 - val_acc: 0.7488\n",
      "Epoch 13/30\n",
      "64/64 [==============================] - 3s - loss: 0.2365 - acc: 0.8975 - val_loss: 0.6387 - val_acc: 0.7272\n",
      "Epoch 14/30\n",
      "64/64 [==============================] - 3s - loss: 0.2114 - acc: 0.9160 - val_loss: 0.8432 - val_acc: 0.7163\n",
      "Epoch 15/30\n",
      "64/64 [==============================] - 3s - loss: 0.1830 - acc: 0.9297 - val_loss: 0.7151 - val_acc: 0.7175\n",
      "Epoch 16/30\n",
      "64/64 [==============================] - 3s - loss: 0.1521 - acc: 0.9453 - val_loss: 0.9396 - val_acc: 0.7260\n",
      "Epoch 17/30\n",
      "64/64 [==============================] - 3s - loss: 0.1283 - acc: 0.9478 - val_loss: 1.0425 - val_acc: 0.7236\n",
      "Epoch 18/30\n",
      "64/64 [==============================] - 3s - loss: 0.1131 - acc: 0.9541 - val_loss: 1.0674 - val_acc: 0.7127\n",
      "Epoch 19/30\n",
      "64/64 [==============================] - 3s - loss: 0.1060 - acc: 0.9629 - val_loss: 1.0976 - val_acc: 0.7368\n",
      "Epoch 20/30\n",
      "64/64 [==============================] - 3s - loss: 0.0976 - acc: 0.9609 - val_loss: 1.1950 - val_acc: 0.7356\n",
      "Epoch 21/30\n",
      "64/64 [==============================] - 3s - loss: 0.0916 - acc: 0.9683 - val_loss: 1.2085 - val_acc: 0.7284\n",
      "Epoch 22/30\n",
      "64/64 [==============================] - 3s - loss: 0.0713 - acc: 0.9727 - val_loss: 1.7575 - val_acc: 0.7151\n",
      "Epoch 23/30\n",
      "64/64 [==============================] - 3s - loss: 0.0798 - acc: 0.9736 - val_loss: 1.4385 - val_acc: 0.7368\n",
      "Epoch 24/30\n",
      "64/64 [==============================] - 3s - loss: 0.0645 - acc: 0.9785 - val_loss: 1.5054 - val_acc: 0.7200\n",
      "Epoch 25/30\n",
      "64/64 [==============================] - 3s - loss: 0.0740 - acc: 0.9756 - val_loss: 1.7323 - val_acc: 0.6923\n",
      "Epoch 26/30\n",
      "64/64 [==============================] - 3s - loss: 0.0586 - acc: 0.9795 - val_loss: 1.6631 - val_acc: 0.7236\n",
      "Epoch 27/30\n",
      "64/64 [==============================] - 3s - loss: 0.0499 - acc: 0.9785 - val_loss: 2.0203 - val_acc: 0.7019\n",
      "Epoch 28/30\n",
      "64/64 [==============================] - 3s - loss: 0.0662 - acc: 0.9771 - val_loss: 1.8689 - val_acc: 0.7212\n",
      "Epoch 29/30\n",
      "64/64 [==============================] - 3s - loss: 0.0857 - acc: 0.9756 - val_loss: 1.9077 - val_acc: 0.6935\n",
      "Epoch 30/30\n",
      "64/64 [==============================] - 3s - loss: 0.0515 - acc: 0.9819 - val_loss: 1.6681 - val_acc: 0.7212\n"
     ]
    },
    {
     "data": {
      "text/plain": [
       "<keras.callbacks.History at 0x7ff8b4010080>"
      ]
     },
     "execution_count": 8,
     "metadata": {},
     "output_type": "execute_result"
    }
   ],
   "source": [
    "model.fit_generator(\n",
    "        train_generator,\n",
    "        steps_per_epoch=train_samples // batch_size,\n",
    "        epochs=epochs,\n",
    "        validation_data=validation_generator,\n",
    "        validation_steps=validation_samples// batch_size,)\n",
    "#About 60 seconds an epoch when using CPU"
   ]
  },
  {
   "cell_type": "code",
   "execution_count": 9,
   "metadata": {
    "collapsed": false
   },
   "outputs": [],
   "source": [
    "model.save_weights('models/basic_cnn_30_epochs.h5')"
   ]
  },
  {
   "cell_type": "code",
   "execution_count": 10,
   "metadata": {
    "collapsed": true
   },
   "outputs": [],
   "source": [
    "#model.save_weights('models_trained/basic_cnn_30_epochs.h5')\n",
    "#model.load_weights('models_trained/basic_cnn_30_epochs.h5')"
   ]
  },
  {
   "cell_type": "markdown",
   "metadata": {},
   "source": [
    "If your model successfully runs at one epoch, go back and it for 30 epochs by changing nb_epoch above.  I was able to get to an val_acc of 0.71 at 30 epochs.\n",
    "A copy of a pretrained network is available in the pretrained folder."
   ]
  },
  {
   "cell_type": "markdown",
   "metadata": {},
   "source": [
    "### Evaluating on validation set"
   ]
  },
  {
   "cell_type": "markdown",
   "metadata": {},
   "source": [
    "Computing loss and accuracy :"
   ]
  },
  {
   "cell_type": "code",
   "execution_count": 11,
   "metadata": {
    "collapsed": false
   },
   "outputs": [
    {
     "data": {
      "text/plain": [
       "[1.6358572365178798, 0.72472205528846156]"
      ]
     },
     "execution_count": 11,
     "metadata": {},
     "output_type": "execute_result"
    }
   ],
   "source": [
    "model.evaluate_generator(validation_generator, validation_samples)"
   ]
  },
  {
   "cell_type": "markdown",
   "metadata": {},
   "source": [
    "Evolution of accuracy on training (blue) and validation (green) sets for 1 to 32 epochs :"
   ]
  },
  {
   "cell_type": "markdown",
   "metadata": {},
   "source": [
    "![Accuracy evolution](pictures/scores_no_dataaugmentation.png)"
   ]
  },
  {
   "cell_type": "markdown",
   "metadata": {},
   "source": [
    "**After ~10 epochs the neural network reach ~70% accuracy. We can witness overfitting, no progress is made over validation set in the next epochs**"
   ]
  },
  {
   "cell_type": "markdown",
   "metadata": {},
   "source": [
    "## Data augmentation for improving the model"
   ]
  },
  {
   "cell_type": "markdown",
   "metadata": {},
   "source": [
    "By applying random transformation to our train set, we artificially enhance our dataset with new unseen images.  \n",
    "This will hopefully reduce overfitting and allows better generalization capability for our network."
   ]
  },
  {
   "cell_type": "markdown",
   "metadata": {},
   "source": [
    "Example of data augmentation applied to a picture:\n",
    "![Example of data augmentation applied to a picture](pictures/cat_data_augmentation.png)"
   ]
  },
  {
   "cell_type": "code",
   "execution_count": 12,
   "metadata": {
    "collapsed": false
   },
   "outputs": [
    {
     "name": "stdout",
     "output_type": "stream",
     "text": [
      "Found 2048 images belonging to 2 classes.\n"
     ]
    }
   ],
   "source": [
    "train_datagen_augmented = ImageDataGenerator(\n",
    "        rescale=1./255,        # normalize pixel values to [0,1]\n",
    "        shear_range=0.2,       # randomly applies shearing transformation\n",
    "        zoom_range=0.2,        # randomly applies shearing transformation\n",
    "        horizontal_flip=True)  # randomly flip the images\n",
    "\n",
    "# same code as before\n",
    "train_generator_augmented = train_datagen_augmented.flow_from_directory(\n",
    "        train_data_dir,\n",
    "        target_size=(img_width, img_height),\n",
    "        batch_size=batch_size,\n",
    "        class_mode='binary')"
   ]
  },
  {
   "cell_type": "code",
   "execution_count": 13,
   "metadata": {
    "collapsed": false
   },
   "outputs": [
    {
     "name": "stdout",
     "output_type": "stream",
     "text": [
      "Epoch 1/30\n",
      "64/64 [==============================] - 8s - loss: 0.6181 - acc: 0.7075 - val_loss: 0.5214 - val_acc: 0.7296\n",
      "Epoch 2/30\n",
      "64/64 [==============================] - 7s - loss: 0.5563 - acc: 0.7510 - val_loss: 0.5814 - val_acc: 0.7224\n",
      "Epoch 3/30\n",
      "64/64 [==============================] - 7s - loss: 0.4982 - acc: 0.7700 - val_loss: 0.6890 - val_acc: 0.7188\n",
      "Epoch 4/30\n",
      "64/64 [==============================] - 7s - loss: 0.5247 - acc: 0.7583 - val_loss: 0.5678 - val_acc: 0.7115\n",
      "Epoch 5/30\n",
      "64/64 [==============================] - 7s - loss: 0.4814 - acc: 0.7871 - val_loss: 0.5177 - val_acc: 0.7776\n",
      "Epoch 6/30\n",
      "64/64 [==============================] - 7s - loss: 0.4932 - acc: 0.7900 - val_loss: 0.5102 - val_acc: 0.7873\n",
      "Epoch 7/30\n",
      "64/64 [==============================] - 7s - loss: 0.4770 - acc: 0.8013 - val_loss: 0.4926 - val_acc: 0.7668\n",
      "Epoch 8/30\n",
      "64/64 [==============================] - 7s - loss: 0.4402 - acc: 0.8008 - val_loss: 0.5014 - val_acc: 0.7728\n",
      "Epoch 9/30\n",
      "64/64 [==============================] - 7s - loss: 0.4495 - acc: 0.7998 - val_loss: 0.5459 - val_acc: 0.7272\n",
      "Epoch 10/30\n",
      "64/64 [==============================] - 7s - loss: 0.4359 - acc: 0.7974 - val_loss: 0.5893 - val_acc: 0.7764\n",
      "Epoch 11/30\n",
      "64/64 [==============================] - 7s - loss: 0.4247 - acc: 0.8184 - val_loss: 0.5150 - val_acc: 0.7716\n",
      "Epoch 12/30\n",
      "64/64 [==============================] - 7s - loss: 0.4379 - acc: 0.8140 - val_loss: 0.4899 - val_acc: 0.7825\n",
      "Epoch 13/30\n",
      "64/64 [==============================] - 7s - loss: 0.4480 - acc: 0.7969 - val_loss: 0.4410 - val_acc: 0.8149\n",
      "Epoch 14/30\n",
      "64/64 [==============================] - 7s - loss: 0.4051 - acc: 0.8208 - val_loss: 0.8244 - val_acc: 0.7055\n",
      "Epoch 15/30\n",
      "64/64 [==============================] - 7s - loss: 0.4047 - acc: 0.8247 - val_loss: 0.4827 - val_acc: 0.8125\n",
      "Epoch 16/30\n",
      "64/64 [==============================] - 7s - loss: 0.4230 - acc: 0.8179 - val_loss: 0.4830 - val_acc: 0.8137\n",
      "Epoch 17/30\n",
      "64/64 [==============================] - 7s - loss: 0.4029 - acc: 0.8159 - val_loss: 0.4399 - val_acc: 0.8089\n",
      "Epoch 18/30\n",
      "64/64 [==============================] - 7s - loss: 0.4042 - acc: 0.8271 - val_loss: 0.4619 - val_acc: 0.7740\n",
      "Epoch 19/30\n",
      "64/64 [==============================] - 7s - loss: 0.4015 - acc: 0.8457 - val_loss: 0.5126 - val_acc: 0.7825\n",
      "Epoch 20/30\n",
      "64/64 [==============================] - 7s - loss: 0.4024 - acc: 0.8271 - val_loss: 0.4927 - val_acc: 0.7740\n",
      "Epoch 21/30\n",
      "64/64 [==============================] - 7s - loss: 0.3901 - acc: 0.8408 - val_loss: 0.4940 - val_acc: 0.7969\n",
      "Epoch 22/30\n",
      "64/64 [==============================] - 7s - loss: 0.3910 - acc: 0.8354 - val_loss: 0.5294 - val_acc: 0.7861\n",
      "Epoch 23/30\n",
      "64/64 [==============================] - 7s - loss: 0.3884 - acc: 0.8354 - val_loss: 0.4598 - val_acc: 0.7909\n",
      "Epoch 24/30\n",
      "64/64 [==============================] - 7s - loss: 0.3995 - acc: 0.8311 - val_loss: 0.4961 - val_acc: 0.7897\n",
      "Epoch 25/30\n",
      "64/64 [==============================] - 7s - loss: 0.3883 - acc: 0.8438 - val_loss: 0.5324 - val_acc: 0.7548\n",
      "Epoch 26/30\n",
      "64/64 [==============================] - 7s - loss: 0.3897 - acc: 0.8467 - val_loss: 0.4837 - val_acc: 0.7993\n",
      "Epoch 27/30\n",
      "64/64 [==============================] - 7s - loss: 0.3768 - acc: 0.8428 - val_loss: 0.4413 - val_acc: 0.8017\n",
      "Epoch 28/30\n",
      "64/64 [==============================] - 7s - loss: 0.3800 - acc: 0.8408 - val_loss: 0.5044 - val_acc: 0.7861\n",
      "Epoch 29/30\n",
      "64/64 [==============================] - 7s - loss: 0.3786 - acc: 0.8398 - val_loss: 0.5393 - val_acc: 0.7740\n",
      "Epoch 30/30\n",
      "64/64 [==============================] - 7s - loss: 0.3687 - acc: 0.8564 - val_loss: 0.5737 - val_acc: 0.7668\n"
     ]
    },
    {
     "data": {
      "text/plain": [
       "<keras.callbacks.History at 0x7ff8b2bf0dd8>"
      ]
     },
     "execution_count": 13,
     "metadata": {},
     "output_type": "execute_result"
    }
   ],
   "source": [
    "model.fit_generator(\n",
    "        train_generator_augmented,\n",
    "        steps_per_epoch=train_samples // batch_size,\n",
    "        epochs=epochs,\n",
    "        validation_data=validation_generator,\n",
    "        validation_steps=validation_samples // batch_size,)"
   ]
  },
  {
   "cell_type": "code",
   "execution_count": 14,
   "metadata": {
    "collapsed": false
   },
   "outputs": [],
   "source": [
    "model.save_weights('models/augmented_30_epochs.h5')"
   ]
  },
  {
   "cell_type": "code",
   "execution_count": 15,
   "metadata": {
    "collapsed": false
   },
   "outputs": [],
   "source": [
    "#model.load_weights('models_trained/augmented_30_epochs.h5')"
   ]
  },
  {
   "cell_type": "markdown",
   "metadata": {},
   "source": [
    "### Evaluating on validation set"
   ]
  },
  {
   "cell_type": "markdown",
   "metadata": {},
   "source": [
    "Computing loss and accuracy :"
   ]
  },
  {
   "cell_type": "code",
   "execution_count": 15,
   "metadata": {
    "collapsed": false
   },
   "outputs": [
    {
     "data": {
      "text/plain": [
       "[0.57709803022086048, 0.76551231971153844]"
      ]
     },
     "execution_count": 15,
     "metadata": {},
     "output_type": "execute_result"
    }
   ],
   "source": [
    "model.evaluate_generator(validation_generator, validation_samples)"
   ]
  },
  {
   "cell_type": "markdown",
   "metadata": {},
   "source": [
    "Evolution of accuracy on training (blue) and validation (green) sets for 1 to 100 epochs :"
   ]
  },
  {
   "cell_type": "markdown",
   "metadata": {},
   "source": [
    "![Accuracy evolution](pictures/scores_with_dataaugmentation.png)"
   ]
  },
  {
   "cell_type": "markdown",
   "metadata": {},
   "source": [
    "**Thanks to data-augmentation, the accuracy on the validation set improved to ~80%**"
   ]
  },
  {
   "cell_type": "markdown",
   "metadata": {},
   "source": [
    "## Using a pre-trained model"
   ]
  },
  {
   "cell_type": "markdown",
   "metadata": {},
   "source": [
    "The process of training a convolutionnal neural network can be very time-consuming and require a lot of datas.  \n",
    "\n",
    "We can go beyond the previous models in terms of performance and efficiency by using a general-purpose, pre-trained image classifier.  This example uses VGG16, a model trained on the ImageNet dataset - which contains millions of images classified in 1000 categories. \n",
    "\n",
    "On top of it, we add a small multi-layer perceptron and we train it on our dataset."
   ]
  },
  {
   "cell_type": "markdown",
   "metadata": {},
   "source": [
    "### VGG16 + small MLP\n",
    "![VGG16 + Dense layers Schema](pictures/vgg16_original.png)"
   ]
  },
  {
   "cell_type": "markdown",
   "metadata": {},
   "source": [
    "#### VGG16 model is available in Keras"
   ]
  },
  {
   "cell_type": "code",
   "execution_count": 18,
   "metadata": {
    "collapsed": false
   },
   "outputs": [
    {
     "name": "stdout",
     "output_type": "stream",
     "text": [
      "Downloading data from https://github.com/fchollet/deep-learning-models/releases/download/v0.1/vgg16_weights_tf_dim_ordering_tf_kernels_notop.h5\n"
     ]
    }
   ],
   "source": [
    "model_vgg = applications.VGG16(include_top=False, weights='imagenet')"
   ]
  },
  {
   "cell_type": "markdown",
   "metadata": {},
   "source": [
    "### Using the VGG16 model to process samples"
   ]
  },
  {
   "cell_type": "code",
   "execution_count": 20,
   "metadata": {
    "collapsed": false
   },
   "outputs": [
    {
     "name": "stdout",
     "output_type": "stream",
     "text": [
      "Found 2048 images belonging to 2 classes.\n",
      "Found 832 images belonging to 2 classes.\n"
     ]
    }
   ],
   "source": [
    "train_generator_bottleneck = datagen.flow_from_directory(\n",
    "        train_data_dir,\n",
    "        target_size=(img_width, img_height),\n",
    "        batch_size=batch_size,\n",
    "        class_mode=None,\n",
    "        shuffle=False)\n",
    "\n",
    "validation_generator_bottleneck = datagen.flow_from_directory(\n",
    "        validation_data_dir,\n",
    "        target_size=(img_width, img_height),\n",
    "        batch_size=batch_size,\n",
    "        class_mode=None,\n",
    "        shuffle=False)"
   ]
  },
  {
   "cell_type": "markdown",
   "metadata": {},
   "source": [
    "This is a long process, so we save the output of the VGG16 once and for all.  "
   ]
  },
  {
   "cell_type": "code",
   "execution_count": 21,
   "metadata": {
    "collapsed": false
   },
   "outputs": [],
   "source": [
    "bottleneck_features_train = model_vgg.predict_generator(train_generator_bottleneck, train_samples // batch_size)\n",
    "np.save(open('models/bottleneck_features_train.npy', 'wb'), bottleneck_features_train)"
   ]
  },
  {
   "cell_type": "code",
   "execution_count": 22,
   "metadata": {
    "collapsed": false
   },
   "outputs": [],
   "source": [
    "bottleneck_features_validation = model_vgg.predict_generator(validation_generator_bottleneck, validation_samples // batch_size)\n",
    "np.save(open('models/bottleneck_features_validation.npy', 'wb'), bottleneck_features_validation)"
   ]
  },
  {
   "cell_type": "markdown",
   "metadata": {},
   "source": [
    "Now we can load it..."
   ]
  },
  {
   "cell_type": "code",
   "execution_count": 23,
   "metadata": {
    "collapsed": false
   },
   "outputs": [],
   "source": [
    "train_data = np.load(open('models/bottleneck_features_train.npy', 'rb'))\n",
    "train_labels = np.array([0] * (train_samples // 2) + [1] * (train_samples // 2))\n",
    "\n",
    "validation_data = np.load(open('models/bottleneck_features_validation.npy', 'rb'))\n",
    "validation_labels = np.array([0] * (validation_samples // 2) + [1] * (validation_samples // 2))"
   ]
  },
  {
   "cell_type": "markdown",
   "metadata": {},
   "source": [
    "And define and train the custom fully connected neural network :"
   ]
  },
  {
   "cell_type": "code",
   "execution_count": 24,
   "metadata": {
    "collapsed": false
   },
   "outputs": [],
   "source": [
    "model_top = Sequential()\n",
    "model_top.add(Flatten(input_shape=train_data.shape[1:]))\n",
    "model_top.add(Dense(256, activation='relu'))\n",
    "model_top.add(Dropout(0.5))\n",
    "model_top.add(Dense(1, activation='sigmoid'))\n",
    "\n",
    "model_top.compile(optimizer='rmsprop', loss='binary_crossentropy', metrics=['accuracy'])"
   ]
  },
  {
   "cell_type": "code",
   "execution_count": 25,
   "metadata": {
    "collapsed": false
   },
   "outputs": [
    {
     "name": "stdout",
     "output_type": "stream",
     "text": [
      "Train on 2048 samples, validate on 832 samples\n",
      "Epoch 1/30\n",
      "2048/2048 [==============================] - 0s - loss: 3.3870 - acc: 0.6279 - val_loss: 0.3765 - val_acc: 0.8173\n",
      "Epoch 2/30\n",
      "2048/2048 [==============================] - 0s - loss: 0.4014 - acc: 0.8232 - val_loss: 0.2767 - val_acc: 0.8990\n",
      "Epoch 3/30\n",
      "2048/2048 [==============================] - 0s - loss: 0.3015 - acc: 0.8784 - val_loss: 0.2481 - val_acc: 0.8882\n",
      "Epoch 4/30\n",
      "2048/2048 [==============================] - 0s - loss: 0.2591 - acc: 0.8931 - val_loss: 0.4684 - val_acc: 0.8281\n",
      "Epoch 5/30\n",
      "2048/2048 [==============================] - 0s - loss: 0.2334 - acc: 0.9048 - val_loss: 0.2334 - val_acc: 0.9062\n",
      "Epoch 6/30\n",
      "2048/2048 [==============================] - 0s - loss: 0.2005 - acc: 0.9224 - val_loss: 0.2395 - val_acc: 0.9026\n",
      "Epoch 7/30\n",
      "2048/2048 [==============================] - 0s - loss: 0.1791 - acc: 0.9233 - val_loss: 0.6955 - val_acc: 0.7849\n",
      "Epoch 8/30\n",
      "2048/2048 [==============================] - 0s - loss: 0.1490 - acc: 0.9414 - val_loss: 0.2788 - val_acc: 0.8846\n",
      "Epoch 9/30\n",
      "2048/2048 [==============================] - 0s - loss: 0.1369 - acc: 0.9419 - val_loss: 0.4056 - val_acc: 0.8642\n",
      "Epoch 10/30\n",
      "2048/2048 [==============================] - 0s - loss: 0.1300 - acc: 0.9463 - val_loss: 0.2863 - val_acc: 0.8966\n",
      "Epoch 11/30\n",
      "2048/2048 [==============================] - 0s - loss: 0.1145 - acc: 0.9565 - val_loss: 0.2855 - val_acc: 0.9050\n",
      "Epoch 12/30\n",
      "2048/2048 [==============================] - 0s - loss: 0.0926 - acc: 0.9663 - val_loss: 0.4966 - val_acc: 0.8558\n",
      "Epoch 13/30\n",
      "2048/2048 [==============================] - 0s - loss: 0.0920 - acc: 0.9658 - val_loss: 0.4437 - val_acc: 0.8678\n",
      "Epoch 14/30\n",
      "2048/2048 [==============================] - 0s - loss: 0.0744 - acc: 0.9702 - val_loss: 0.6320 - val_acc: 0.8462\n",
      "Epoch 15/30\n",
      "2048/2048 [==============================] - 0s - loss: 0.0788 - acc: 0.9692 - val_loss: 0.3674 - val_acc: 0.9075\n",
      "Epoch 16/30\n",
      "2048/2048 [==============================] - 0s - loss: 0.0721 - acc: 0.9717 - val_loss: 0.3389 - val_acc: 0.9062\n",
      "Epoch 17/30\n",
      "2048/2048 [==============================] - 0s - loss: 0.0569 - acc: 0.9785 - val_loss: 0.3647 - val_acc: 0.9075\n",
      "Epoch 18/30\n",
      "2048/2048 [==============================] - 0s - loss: 0.0486 - acc: 0.9771 - val_loss: 0.5094 - val_acc: 0.8774\n",
      "Epoch 19/30\n",
      "2048/2048 [==============================] - 0s - loss: 0.0497 - acc: 0.9800 - val_loss: 0.3646 - val_acc: 0.9183\n",
      "Epoch 20/30\n",
      "2048/2048 [==============================] - 0s - loss: 0.0458 - acc: 0.9824 - val_loss: 0.4245 - val_acc: 0.9087\n",
      "Epoch 21/30\n",
      "2048/2048 [==============================] - 0s - loss: 0.0320 - acc: 0.9863 - val_loss: 0.4216 - val_acc: 0.9159\n",
      "Epoch 22/30\n",
      "2048/2048 [==============================] - 0s - loss: 0.0352 - acc: 0.9868 - val_loss: 0.4470 - val_acc: 0.9123\n",
      "Epoch 23/30\n",
      "2048/2048 [==============================] - 0s - loss: 0.0246 - acc: 0.9917 - val_loss: 0.4556 - val_acc: 0.9123\n",
      "Epoch 24/30\n",
      "2048/2048 [==============================] - 0s - loss: 0.0284 - acc: 0.9878 - val_loss: 0.4901 - val_acc: 0.9111\n",
      "Epoch 25/30\n",
      "2048/2048 [==============================] - 0s - loss: 0.0247 - acc: 0.9937 - val_loss: 0.4744 - val_acc: 0.9183\n",
      "Epoch 26/30\n",
      "2048/2048 [==============================] - 0s - loss: 0.0363 - acc: 0.9888 - val_loss: 0.5039 - val_acc: 0.9075\n",
      "Epoch 27/30\n",
      "2048/2048 [==============================] - 0s - loss: 0.0162 - acc: 0.9956 - val_loss: 0.4766 - val_acc: 0.9171\n",
      "Epoch 28/30\n",
      "2048/2048 [==============================] - 0s - loss: 0.0159 - acc: 0.9951 - val_loss: 0.5400 - val_acc: 0.9062\n",
      "Epoch 29/30\n",
      "2048/2048 [==============================] - 0s - loss: 0.0192 - acc: 0.9927 - val_loss: 0.5682 - val_acc: 0.9111\n",
      "Epoch 30/30\n",
      "2048/2048 [==============================] - 0s - loss: 0.0195 - acc: 0.9937 - val_loss: 0.5436 - val_acc: 0.9123\n"
     ]
    },
    {
     "data": {
      "text/plain": [
       "<keras.callbacks.History at 0x7ff8b00bd6d8>"
      ]
     },
     "execution_count": 25,
     "metadata": {},
     "output_type": "execute_result"
    }
   ],
   "source": [
    "model_top.fit(train_data, train_labels,\n",
    "        epochs=epochs, \n",
    "        batch_size=batch_size,\n",
    "        validation_data=(validation_data, validation_labels))"
   ]
  },
  {
   "cell_type": "markdown",
   "metadata": {},
   "source": [
    "The training process of this small neural network is very fast : ~2s per epoch"
   ]
  },
  {
   "cell_type": "code",
   "execution_count": 26,
   "metadata": {
    "collapsed": false
   },
   "outputs": [],
   "source": [
    "model_top.save_weights('models/bottleneck_30_epochs.h5')"
   ]
  },
  {
   "cell_type": "markdown",
   "metadata": {},
   "source": [
    "### Bottleneck model evaluation"
   ]
  },
  {
   "cell_type": "code",
   "execution_count": 26,
   "metadata": {
    "collapsed": false
   },
   "outputs": [],
   "source": [
    "#model_top.load_weights('models/bottleneck_30_epochs.h5)"
   ]
  },
  {
   "cell_type": "markdown",
   "metadata": {},
   "source": [
    "Loss and accuracy :"
   ]
  },
  {
   "cell_type": "code",
   "execution_count": 27,
   "metadata": {
    "collapsed": false
   },
   "outputs": [
    {
     "name": "stdout",
     "output_type": "stream",
     "text": [
      "800/832 [===========================>..] - ETA: 0s"
     ]
    },
    {
     "data": {
      "text/plain": [
       "[0.54362334619061303, 0.91225961538461542]"
      ]
     },
     "execution_count": 27,
     "metadata": {},
     "output_type": "execute_result"
    }
   ],
   "source": [
    "model_top.evaluate(validation_data, validation_labels)"
   ]
  },
  {
   "cell_type": "markdown",
   "metadata": {},
   "source": [
    "Evolution of accuracy on training (blue) and validation (green) sets for 1 to 32 epochs :"
   ]
  },
  {
   "cell_type": "markdown",
   "metadata": {},
   "source": [
    "![Accuracy evolution](pictures/scores_with_bottleneck.png)"
   ]
  },
  {
   "cell_type": "markdown",
   "metadata": {},
   "source": [
    "**We reached a 90% accuracy on the validation after ~1m of training (~20 epochs) and 8% of the samples originally available on the Kaggle competition !**"
   ]
  },
  {
   "cell_type": "markdown",
   "metadata": {
    "collapsed": true
   },
   "source": [
    "## Fine-tuning the top layers of a a pre-trained network"
   ]
  },
  {
   "cell_type": "markdown",
   "metadata": {
    "collapsed": true
   },
   "source": [
    "Start by instantiating the VGG base and loading its weights."
   ]
  },
  {
   "cell_type": "code",
   "execution_count": 28,
   "metadata": {
    "collapsed": true
   },
   "outputs": [],
   "source": [
    "model_vgg = applications.VGG16(weights='imagenet', include_top=False, input_shape=(150, 150, 3))"
   ]
  },
  {
   "cell_type": "markdown",
   "metadata": {},
   "source": [
    "Build a classifier model to put on top of the convolutional model. For the fine tuning, we start with a fully trained-classifer. We will use the weights from the earlier model. And then we will add this model on top of the convolutional base."
   ]
  },
  {
   "cell_type": "code",
   "execution_count": 31,
   "metadata": {
    "collapsed": false
   },
   "outputs": [],
   "source": [
    "top_model = Sequential()\n",
    "top_model.add(Flatten(input_shape=model_vgg.output_shape[1:]))\n",
    "top_model.add(Dense(256, activation='relu'))\n",
    "top_model.add(Dropout(0.5))\n",
    "top_model.add(Dense(1, activation='sigmoid'))\n",
    "\n",
    "top_model.load_weights('models/bottleneck_40_epochs.h5')\n",
    "\n",
    "#model_vgg.add(top_model)\n",
    "model = Model(inputs = model_vgg.input, outputs = top_model(model_vgg.output))"
   ]
  },
  {
   "cell_type": "markdown",
   "metadata": {},
   "source": [
    "For fine turning, we only want to train a few layers.  This line will set the first 25 layers (up to the conv block) to non-trainable."
   ]
  },
  {
   "cell_type": "code",
   "execution_count": 32,
   "metadata": {
    "collapsed": false
   },
   "outputs": [],
   "source": [
    "for layer in model_vgg.layers[:15]:\n",
    "    layer.trainable = False"
   ]
  },
  {
   "cell_type": "code",
   "execution_count": 33,
   "metadata": {
    "collapsed": true
   },
   "outputs": [],
   "source": [
    "# compile the model with a SGD/momentum optimizer\n",
    "# and a very slow learning rate.\n",
    "model.compile(loss='binary_crossentropy',\n",
    "              optimizer=optimizers.SGD(lr=1e-4, momentum=0.9),\n",
    "              metrics=['accuracy'])"
   ]
  },
  {
   "cell_type": "code",
   "execution_count": 34,
   "metadata": {
    "collapsed": false
   },
   "outputs": [
    {
     "name": "stdout",
     "output_type": "stream",
     "text": [
      "Found 2048 images belonging to 2 classes.\n",
      "Found 832 images belonging to 2 classes.\n"
     ]
    }
   ],
   "source": [
    "# prepare data augmentation configuration  . . . do we need this?\n",
    "train_datagen = ImageDataGenerator(\n",
    "        rescale=1./255,\n",
    "        shear_range=0.2,\n",
    "        zoom_range=0.2,\n",
    "        horizontal_flip=True)\n",
    "\n",
    "test_datagen = ImageDataGenerator(rescale=1./255)\n",
    "\n",
    "train_generator = train_datagen.flow_from_directory(\n",
    "        train_data_dir,\n",
    "        target_size=(img_height, img_width),\n",
    "        batch_size=batch_size,\n",
    "        class_mode='binary')\n",
    "\n",
    "validation_generator = test_datagen.flow_from_directory(\n",
    "        validation_data_dir,\n",
    "        target_size=(img_height, img_width),\n",
    "        batch_size=batch_size,\n",
    "        class_mode='binary')"
   ]
  },
  {
   "cell_type": "code",
   "execution_count": 35,
   "metadata": {
    "collapsed": false
   },
   "outputs": [
    {
     "name": "stdout",
     "output_type": "stream",
     "text": [
      "Epoch 1/30\n",
      "64/64 [==============================] - 14s - loss: 0.3143 - acc: 0.8945 - val_loss: 0.3477 - val_acc: 0.9123\n",
      "Epoch 2/30\n",
      "64/64 [==============================] - 14s - loss: 0.1789 - acc: 0.9336 - val_loss: 0.2682 - val_acc: 0.9243\n",
      "Epoch 3/30\n",
      "64/64 [==============================] - 14s - loss: 0.1597 - acc: 0.9404 - val_loss: 0.2590 - val_acc: 0.9267\n",
      "Epoch 4/30\n",
      "64/64 [==============================] - 14s - loss: 0.1227 - acc: 0.9561 - val_loss: 0.3725 - val_acc: 0.9050\n",
      "Epoch 5/30\n",
      "64/64 [==============================] - 14s - loss: 0.1375 - acc: 0.9492 - val_loss: 0.3094 - val_acc: 0.9062\n",
      "Epoch 6/30\n",
      "64/64 [==============================] - 14s - loss: 0.0917 - acc: 0.9678 - val_loss: 0.2808 - val_acc: 0.9159\n",
      "Epoch 7/30\n",
      "64/64 [==============================] - 14s - loss: 0.1110 - acc: 0.9595 - val_loss: 0.3092 - val_acc: 0.9171\n",
      "Epoch 8/30\n",
      "64/64 [==============================] - 14s - loss: 0.1013 - acc: 0.9653 - val_loss: 0.3118 - val_acc: 0.9147\n",
      "Epoch 9/30\n",
      "64/64 [==============================] - 14s - loss: 0.0856 - acc: 0.9731 - val_loss: 0.3227 - val_acc: 0.9171\n",
      "Epoch 10/30\n",
      "64/64 [==============================] - 14s - loss: 0.0820 - acc: 0.9722 - val_loss: 0.3082 - val_acc: 0.9255\n",
      "Epoch 11/30\n",
      "64/64 [==============================] - 14s - loss: 0.0663 - acc: 0.9790 - val_loss: 0.2455 - val_acc: 0.9303\n",
      "Epoch 12/30\n",
      "64/64 [==============================] - 14s - loss: 0.0560 - acc: 0.9810 - val_loss: 0.3503 - val_acc: 0.9219\n",
      "Epoch 13/30\n",
      "64/64 [==============================] - 14s - loss: 0.0691 - acc: 0.9775 - val_loss: 0.2757 - val_acc: 0.9339\n",
      "Epoch 14/30\n",
      "64/64 [==============================] - 14s - loss: 0.0713 - acc: 0.9717 - val_loss: 0.2953 - val_acc: 0.9303\n",
      "Epoch 15/30\n",
      "64/64 [==============================] - 14s - loss: 0.0578 - acc: 0.9800 - val_loss: 0.2959 - val_acc: 0.9255\n",
      "Epoch 16/30\n",
      "64/64 [==============================] - 14s - loss: 0.0368 - acc: 0.9868 - val_loss: 0.4587 - val_acc: 0.9075\n",
      "Epoch 17/30\n",
      "64/64 [==============================] - 14s - loss: 0.0438 - acc: 0.9849 - val_loss: 0.3330 - val_acc: 0.9255\n",
      "Epoch 18/30\n",
      "64/64 [==============================] - 14s - loss: 0.0362 - acc: 0.9883 - val_loss: 0.3822 - val_acc: 0.9327\n",
      "Epoch 19/30\n",
      "64/64 [==============================] - 14s - loss: 0.0446 - acc: 0.9858 - val_loss: 0.2899 - val_acc: 0.9243\n",
      "Epoch 20/30\n",
      "64/64 [==============================] - 14s - loss: 0.0520 - acc: 0.9863 - val_loss: 0.3991 - val_acc: 0.9147\n",
      "Epoch 21/30\n",
      "64/64 [==============================] - 14s - loss: 0.0419 - acc: 0.9858 - val_loss: 0.3005 - val_acc: 0.9243\n",
      "Epoch 22/30\n",
      "64/64 [==============================] - 14s - loss: 0.0295 - acc: 0.9878 - val_loss: 0.3289 - val_acc: 0.9315\n",
      "Epoch 23/30\n",
      "64/64 [==============================] - 14s - loss: 0.0296 - acc: 0.9897 - val_loss: 0.3794 - val_acc: 0.9062\n",
      "Epoch 24/30\n",
      "64/64 [==============================] - 14s - loss: 0.0407 - acc: 0.9858 - val_loss: 0.3036 - val_acc: 0.9279\n",
      "Epoch 25/30\n",
      "64/64 [==============================] - 14s - loss: 0.0414 - acc: 0.9858 - val_loss: 0.3110 - val_acc: 0.9291\n",
      "Epoch 26/30\n",
      "64/64 [==============================] - 14s - loss: 0.0357 - acc: 0.9873 - val_loss: 0.3260 - val_acc: 0.9183\n",
      "Epoch 27/30\n",
      "64/64 [==============================] - 14s - loss: 0.0294 - acc: 0.9893 - val_loss: 0.3376 - val_acc: 0.9315\n",
      "Epoch 28/30\n",
      "64/64 [==============================] - 14s - loss: 0.0337 - acc: 0.9907 - val_loss: 0.2400 - val_acc: 0.9399\n",
      "Epoch 29/30\n",
      "64/64 [==============================] - 14s - loss: 0.0196 - acc: 0.9932 - val_loss: 0.3767 - val_acc: 0.9267\n",
      "Epoch 30/30\n",
      "64/64 [==============================] - 14s - loss: 0.0252 - acc: 0.9907 - val_loss: 0.3516 - val_acc: 0.9303\n"
     ]
    },
    {
     "data": {
      "text/plain": [
       "<keras.callbacks.History at 0x7ff897d92cc0>"
      ]
     },
     "execution_count": 35,
     "metadata": {},
     "output_type": "execute_result"
    }
   ],
   "source": [
    "# fine-tune the model\n",
    "model.fit_generator(\n",
    "    train_generator,\n",
    "    steps_per_epoch=train_samples // batch_size,\n",
    "    epochs=epochs,\n",
    "    validation_data=validation_generator,\n",
    "    validation_steps=validation_samples // batch_size)"
   ]
  },
  {
   "cell_type": "code",
   "execution_count": 36,
   "metadata": {
    "collapsed": true
   },
   "outputs": [],
   "source": [
    "model.save_weights('models/finetuning_30epochs_vgg.h5')"
   ]
  },
  {
   "cell_type": "code",
   "execution_count": 38,
   "metadata": {
    "collapsed": true
   },
   "outputs": [],
   "source": [
    "model.load_weights('models/finetuning_30epochs_vgg.h5')"
   ]
  },
  {
   "cell_type": "markdown",
   "metadata": {},
   "source": [
    "### Evaluating on validation set"
   ]
  },
  {
   "cell_type": "markdown",
   "metadata": {},
   "source": [
    "Computing loss and accuracy :"
   ]
  },
  {
   "cell_type": "code",
   "execution_count": null,
   "metadata": {
    "collapsed": false
   },
   "outputs": [],
   "source": [
    "model.evaluate_generator(validation_generator, validation_samples)"
   ]
  }
 ],
 "metadata": {
  "anaconda-cloud": {},
  "kernelspec": {
   "display_name": "Python 3",
   "language": "python",
   "name": "python3"
  },
  "language_info": {
   "codemirror_mode": {
    "name": "ipython",
    "version": 3
   },
   "file_extension": ".py",
   "mimetype": "text/x-python",
   "name": "python",
   "nbconvert_exporter": "python",
   "pygments_lexer": "ipython3",
   "version": "3.5.2"
  }
 },
 "nbformat": 4,
 "nbformat_minor": 1
}
